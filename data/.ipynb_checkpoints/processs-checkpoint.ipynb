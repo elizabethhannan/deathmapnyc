{
 "cells": [
  {
   "cell_type": "code",
   "execution_count": 169,
   "metadata": {
    "collapsed": false
   },
   "outputs": [
    {
     "name": "stdout",
     "output_type": "stream",
     "text": [
      "Requirement already satisfied (use --upgrade to upgrade): geocoder in /opt/conda/lib/python3.5/site-packages\n",
      "Requirement already satisfied (use --upgrade to upgrade): ratelim in /opt/conda/lib/python3.5/site-packages (from geocoder)\n",
      "Requirement already satisfied (use --upgrade to upgrade): six in /opt/conda/lib/python3.5/site-packages (from geocoder)\n",
      "Requirement already satisfied (use --upgrade to upgrade): click in /opt/conda/lib/python3.5/site-packages (from geocoder)\n",
      "Requirement already satisfied (use --upgrade to upgrade): requests in /opt/conda/lib/python3.5/site-packages (from geocoder)\n",
      "Requirement already satisfied (use --upgrade to upgrade): decorator in /opt/conda/lib/python3.5/site-packages (from ratelim->geocoder)\n",
      "\u001b[33mYou are using pip version 8.1.2, however version 9.0.1 is available.\n",
      "You should consider upgrading via the 'pip install --upgrade pip' command.\u001b[0m\n",
      "Requirement already satisfied (use --upgrade to upgrade): lxml in /opt/conda/lib/python3.5/site-packages\n",
      "Requirement already satisfied (use --upgrade to upgrade): html5lib in /opt/conda/lib/python3.5/site-packages\n",
      "Requirement already satisfied (use --upgrade to upgrade): setuptools>=18.5 in /opt/conda/lib/python3.5/site-packages/setuptools-27.2.0-py3.5.egg (from html5lib)\n",
      "Requirement already satisfied (use --upgrade to upgrade): six in /opt/conda/lib/python3.5/site-packages (from html5lib)\n",
      "Requirement already satisfied (use --upgrade to upgrade): webencodings in /opt/conda/lib/python3.5/site-packages (from html5lib)\n",
      "\u001b[33mYou are using pip version 8.1.2, however version 9.0.1 is available.\n",
      "You should consider upgrading via the 'pip install --upgrade pip' command.\u001b[0m\n",
      "Requirement already satisfied (use --upgrade to upgrade): tqdm in /opt/conda/lib/python3.5/site-packages\n",
      "\u001b[33mYou are using pip version 8.1.2, however version 9.0.1 is available.\n",
      "You should consider upgrading via the 'pip install --upgrade pip' command.\u001b[0m\n"
     ]
    }
   ],
   "source": [
    "!pip install geocoder\n",
    "!pip install lxml html5lib\n",
    "!pip install tqdm"
   ]
  },
  {
   "cell_type": "code",
   "execution_count": 170,
   "metadata": {
    "collapsed": false
   },
   "outputs": [],
   "source": [
    "import requests\n",
    "import pandas as pd\n",
    "import numpy as np\n",
    "import geocoder"
   ]
  },
  {
   "cell_type": "code",
   "execution_count": 171,
   "metadata": {
    "collapsed": true
   },
   "outputs": [],
   "source": [
    "from tqdm import tnrange, tqdm_notebook\n",
    "from tqdm import tqdm\n",
    "tqdm.pandas(desc=\"p\")\n"
   ]
  },
  {
   "cell_type": "code",
   "execution_count": 172,
   "metadata": {
    "collapsed": true
   },
   "outputs": [],
   "source": [
    "geo_cache = {}"
   ]
  },
  {
   "cell_type": "code",
   "execution_count": null,
   "metadata": {
    "collapsed": false
   },
   "outputs": [],
   "source": []
  },
  {
   "cell_type": "code",
   "execution_count": 173,
   "metadata": {
    "collapsed": false
   },
   "outputs": [],
   "source": [
    "\n",
    "def get_lat_lng(x):\n",
    "    debug = True\n",
    "#   tqdm.write(\"Done task %i\" % i)\n",
    "    if debug: print('\\n'+x)\n",
    "    if x in geo_cache:\n",
    "        res = geo_cache[x]\n",
    "    g = geocoder.google(x)\n",
    "    if g.latlng:\n",
    "        geo_cache[x] = g.latlng\n",
    "        res = g.latlng\n",
    "    else:\n",
    "        res = [pd.np.nan, pd.np.nan]\n",
    "    if debug: print(res)\n",
    "    return res\n",
    "\n",
    "# print('bk', get_lat_lng('Brooklyn, NY'))\n",
    "# print(get_lat_lng('Brownstone Bagel, Brooklyn, NY'))\n",
    "# print(get_lat_lng('5th Avenue and Union Ave, Brooklyn, NY'))\n",
    "# print(get_lat_lng('5t2323f Union afewfAve, Bro43oklyn, NY'))\n",
    "# OSHA examples\n",
    "# print(get_lat_lng('Tower Building Services Inc., New York, NY 10021'))\n",
    "# print(get_lat_lng(\"FJC Security Services, New York, NY 10014\"))\n",
    "\n",
    "\n"
   ]
  },
  {
   "cell_type": "markdown",
   "metadata": {},
   "source": [
    "### Crime Deaths"
   ]
  },
  {
   "cell_type": "code",
   "execution_count": 174,
   "metadata": {
    "collapsed": true
   },
   "outputs": [],
   "source": [
    "# TODO need to do paging, this just squeaks under the 50k limit XXX \n",
    "crime_deaths_url = \"https://data.cityofnewyork.us/resource/n98d-maqp.json?ofns_desc=MURDER%20%26%20NON-NEGL.%20MANSLAUGHTER&$limit=50000\"\n",
    "r = requests.get(crime_deaths_url)\n",
    "crime_deaths_json = r.json()"
   ]
  },
  {
   "cell_type": "code",
   "execution_count": 175,
   "metadata": {
    "collapsed": false,
    "scrolled": true
   },
   "outputs": [
    {
     "name": "stdout",
     "output_type": "stream",
     "text": [
      "4909\n"
     ]
    }
   ],
   "source": [
    "print(len(crime_deaths_json))\n",
    "# print(crime_deaths_json[0])\n",
    "crime_deaths = pd.DataFrame.from_records(crime_deaths_json)\n",
    "# crime_deaths"
   ]
  },
  {
   "cell_type": "code",
   "execution_count": 176,
   "metadata": {
    "collapsed": false
   },
   "outputs": [],
   "source": [
    "crime_deaths.drop(['ofns_desc'], axis = 1, inplace = True)"
   ]
  },
  {
   "cell_type": "code",
   "execution_count": 177,
   "metadata": {
    "collapsed": false
   },
   "outputs": [],
   "source": [
    "crime_deaths[\"kind\"] = \"c\"\n",
    "crime_deaths\n",
    "crime_deaths.columns = ['lat', 'lng', 'date', 'kind']"
   ]
  },
  {
   "cell_type": "code",
   "execution_count": 178,
   "metadata": {
    "collapsed": false
   },
   "outputs": [
    {
     "name": "stdout",
     "output_type": "stream",
     "text": [
      "lat     2\n",
      "lng     2\n",
      "date    0\n",
      "kind    0\n",
      "dtype: int64\n"
     ]
    }
   ],
   "source": [
    "print(crime_deaths.isnull().sum())\n",
    "# crime_deaths\n",
    "# returns 2 crime deaths we don't have lat lng for, but they lack any location info, nothing to geocode"
   ]
  },
  {
   "cell_type": "markdown",
   "metadata": {},
   "source": [
    "### Motor vehicle related deaths"
   ]
  },
  {
   "cell_type": "code",
   "execution_count": 179,
   "metadata": {
    "collapsed": false
   },
   "outputs": [],
   "source": [
    "# https://data.cityofnewyork.us/resource/9tve-dvm5.json\n",
    "vehicle_deaths_url = \"https://data.cityofnewyork.us/resource/arr5-wtax.json?&$limit=50000\"\n",
    "r = requests.get(vehicle_deaths_url)\n",
    "vehicle_deaths_json = r.json()\n",
    "vehicle_deaths = pd.DataFrame.from_records(vehicle_deaths_json)"
   ]
  },
  {
   "cell_type": "code",
   "execution_count": 180,
   "metadata": {
    "collapsed": false
   },
   "outputs": [],
   "source": [
    "# how many have missing data\n",
    "# vehicle_deaths.isnull().sum()\n",
    "# show those missing lat\n",
    "# vehicle_deaths[vehicle_deaths.isnull()['latitude']]"
   ]
  },
  {
   "cell_type": "code",
   "execution_count": 181,
   "metadata": {
    "collapsed": false
   },
   "outputs": [
    {
     "name": "stdout",
     "output_type": "stream",
     "text": [
      "<class 'pandas.core.frame.DataFrame'>\n",
      "RangeIndex: 1233 entries, 0 to 1232\n",
      "Data columns (total 9 columns):\n",
      "borough              840 non-null object\n",
      "cross_street_name    98 non-null object\n",
      "date                 1233 non-null object\n",
      "latitude             962 non-null object\n",
      "location             962 non-null object\n",
      "longitude            962 non-null object\n",
      "off_street_name      973 non-null object\n",
      "on_street_name       1021 non-null object\n",
      "zip_code             840 non-null object\n",
      "dtypes: object(9)\n",
      "memory usage: 86.8+ KB\n"
     ]
    }
   ],
   "source": [
    "# vehicle_deaths[:1]\n",
    "vehicle_deaths.info()"
   ]
  },
  {
   "cell_type": "code",
   "execution_count": 182,
   "metadata": {
    "collapsed": false
   },
   "outputs": [],
   "source": [
    "# specific to motor vehicle data / rows\n",
    "def maybe_get_location(row):\n",
    "    borough = row.borough if row.borough is not pd.np.NaN else ''\n",
    "    if row.latitude is not pd.np.NaN :\n",
    "        return [row.latitude, row.longitude]\n",
    "    elif row.cross_street_name is not pd.np.NaN:\n",
    "        return get_lat_lng(row.cross_street_name+' '+borough+ ' New York')\n",
    "    elif row.off_street_name is not pd.np.NaN:\n",
    "        return get_lat_lng(row.off_street_name+' '+borough+ ' New York')\n",
    "    elif row.on_street_name is not pd.np.NaN:\n",
    "        return get_lat_lng(row.on_street_name+' '+borough+ ' New York')\n",
    "    else:\n",
    "        # print('no dice for ', row)\n",
    "        return [pd.np.nan, pd.np.nan]\n",
    "\n",
    "    \n",
    "# https://stackoverflow.com/a/26887820/83859\n",
    "# df.apply (lambda row: label_race (row),axis=1) # just to see result\n"
   ]
  },
  {
   "cell_type": "code",
   "execution_count": 183,
   "metadata": {
    "collapsed": false
   },
   "outputs": [
    {
     "name": "stdout",
     "output_type": "stream",
     "text": [
      "\n",
      "SOUTH DRIVE  New York\n",
      "[40.78955879999999, -73.82722319999999]\n",
      "\n",
      "WEST 60 STREET  New York\n",
      "[40.7710072, -73.9869855]\n",
      "\n",
      "3708      Henry Hudson Pkwy E            BRONX New York\n",
      "[40.8881391, -73.9103866]\n",
      "\n",
      "99        EAST DRIVE                      New York\n",
      "[40.7805155, -73.7517362]\n",
      "\n",
      "GRAND CENTRAL PARKWAY  New York\n",
      "[40.7288293, -73.8394838]\n",
      "\n",
      "HUTCHINSON RIVER PARKWAY  New York\n",
      "[40.9301582, -73.8026946]\n",
      "\n",
      "PARK DRIVE                        New York\n",
      "[40.7700118, -73.97432289999999]\n",
      "\n",
      "58 AVENUE QUEENS New York\n",
      "[40.7462872, -73.7740704]\n",
      "\n",
      "GRAND STREET                      New York\n",
      "[40.7174309, -73.9914517]\n",
      "\n",
      "AVENUE X                          New York\n",
      "[40.5921076, -73.95606099999999]\n",
      "\n",
      "REMSEN AVENUE BROOKLYN New York\n",
      "[40.6468173, -73.91331339999999]\n",
      "\n",
      "BOSTON ROAD                       New York\n",
      "[40.8586661, -73.8676864]\n",
      "\n",
      "BOSTON ROAD                       New York\n",
      "[40.8586661, -73.8676864]\n",
      "\n",
      "WEST 2 STREET BROOKLYN New York\n",
      "[40.587166, -73.9714822]\n",
      "\n",
      "PINE STREET BROOKLYN New York\n",
      "[40.6742743, -73.8706729]\n",
      "\n",
      "MAIN STREET                       New York\n",
      "[40.7338728, -73.8252576]\n",
      "\n",
      "35-32     21 STREET                      QUEENS New York\n",
      "[40.7606871, -73.9364173]\n",
      "\n",
      "60 STREET                         New York\n",
      "[40.76199700000001, -73.96570659999999]\n",
      "\n",
      "GRAND CENTRAL PARKWAY  New York\n",
      "[40.7288293, -73.8394838]\n",
      "\n",
      "EAST BEDFORD PARK BOULEVARD BRONX New York\n",
      "[40.8701903, -73.8855179]\n",
      "\n",
      "BROADWAY                          New York\n",
      "[41.1115472, -73.85838059999999]\n",
      "\n",
      "33 STREET QUEENS New York\n",
      "[40.7751834, -73.9104347]\n",
      "\n",
      "NEREID AVENUE BRONX New York\n",
      "[40.8985658, -73.84916609999999]\n",
      "\n",
      "BROADWAY                          New York\n",
      "[41.1115472, -73.85838059999999]\n",
      "\n",
      "83-12     267 STREET                     QUEENS New York\n",
      "[40.740093, -73.702743]\n",
      "\n",
      "BROADWAY                          New York\n",
      "[41.1115472, -73.85838059999999]\n",
      "\n",
      "76 STREET                         New York\n",
      "[40.7812025, -73.9797543]\n",
      "\n",
      "EAST 42 STREET                    New York\n",
      "[40.7578775, -73.99132759999999]\n",
      "\n",
      "41 AVENUE  New York\n",
      "[40.7441075, -73.904411]\n",
      "\n",
      "EAST 219 STREET                   New York\n",
      "[40.882217, -73.85850940000002]\n",
      "\n",
      "TUNNEL APPROACH STREET  New York\n",
      "[40.7451341, -73.9641462]\n",
      "\n",
      "ASTORIA BOULEVARD                 New York\n",
      "[40.7654129, -73.889979]\n",
      "\n",
      "BRUCKNER BOULEVARD                New York\n",
      "[40.8240844, -73.8762153]\n",
      "\n",
      "BRUCKNER BOULEVARD                New York\n",
      "[40.8240844, -73.8762153]\n",
      "\n",
      "WHITEHALL STREET  New York\n",
      "[40.70288010000001, -74.0129695]\n",
      "\n",
      "WEST 158 STREET MANHATTAN New York\n",
      "[40.8349097, -73.94501439999999]\n",
      "\n",
      "CROWELL AVENUE STATEN ISLAND New York\n",
      "[40.6156563, -74.12748719999999]\n",
      "\n",
      "AVENUE J                          New York\n",
      "[40.6266661, -73.94788369999999]\n",
      "\n",
      "EAST 135 STREET MANHATTAN New York\n",
      "[40.8118578, -73.9357651]\n",
      "\n",
      "CANAL STREET STATEN ISLAND New York\n",
      "[40.626494, -74.0776115]\n",
      "\n",
      "FRANKLIN AVENUE                   New York\n",
      "[40.6813005, -73.95569160000001]\n",
      "\n",
      "BEACH 59 STREET QUEENS New York\n",
      "[40.5918672, -73.7889197]\n",
      "\n",
      "EAST 118 STREET MANHATTAN New York\n",
      "[40.79878100000001, -73.93794129999999]\n",
      "\n",
      "133 AVENUE QUEENS New York\n",
      "[40.6730844, -73.8264069]\n",
      "\n",
      "WEST 52 STREET                    New York\n",
      "[40.7641402, -73.9866172]\n",
      "\n",
      "AVENUE V                                  New York\n",
      "[40.597312, -73.95052969999999]\n",
      "\n",
      "144 TERRACE QUEENS New York\n",
      "[40.6644157, -73.77543279999999]\n",
      "\n",
      "EAST 71 STREET MANHATTAN New York\n",
      "[40.7685964, -73.9599964]\n",
      "\n",
      "2201      86 STREET                      BROOKLYN New York\n",
      "[40.6020202, -73.9933722]\n",
      "\n",
      "WEST 124 STREET MANHATTAN New York\n",
      "[40.8082644, -73.9487541]\n",
      "\n",
      "120 STREET QUEENS New York\n",
      "[40.6712046, -73.8198261]\n",
      "\n",
      "CONEY ISLAND AVENUE BROOKLYN New York\n",
      "[40.6130653, -73.9630263]\n",
      "\n",
      "BROADWAY QUEENS New York\n",
      "[40.7529571, -73.90627309999999]\n",
      "\n",
      "BRONXDALE AVENUE                  New York\n",
      "[40.84784450000001, -73.8601178]\n",
      "\n",
      "MANOR AVENUE BRONX New York\n",
      "[40.8289769, -73.87640979999999]\n",
      "\n",
      "2 AVENUE MANHATTAN New York\n",
      "[40.7649927, -73.9611583]\n",
      "\n",
      "43 STREET                         New York\n",
      "[40.7583563, -73.99037469999999]\n",
      "\n",
      "NORTHERN BOULEVARD                New York\n",
      "[40.762733, -73.835589]\n",
      "\n",
      "WEST END AVENUE MANHATTAN New York\n",
      "[40.7872597, -73.9790563]\n",
      "\n",
      "ATLANTIC AVENUE STATEN ISLAND New York\n",
      "[40.5917655, -74.091904]\n",
      "\n",
      "DIVISION STREET MANHATTAN New York\n",
      "[40.7142878, -73.994056]\n",
      "\n",
      "EAST TREMONT AVENUE               New York\n",
      "[40.8410515, -73.86442699999999]\n",
      "\n",
      "ALBANY AVENUE BROOKLYN New York\n",
      "[40.6652457, -73.9397949]\n",
      "\n",
      "NARROWS ROAD NORTH                New York\n",
      "[40.6065244, -74.0811542]\n",
      "\n",
      "MERRICK BOULEVARD                 New York\n",
      "[40.6835022, -73.7691226]\n",
      "\n",
      "MURDOCK AVENUE QUEENS New York\n",
      "[40.70024, -73.753789]\n",
      "\n",
      "86 STREET QUEENS New York\n",
      "[40.7580867, -73.88202199999999]\n",
      "\n",
      "FLATBUSH AVENUE                           New York\n",
      "[40.6295097, -73.9441461]\n",
      "\n",
      "BRONX RIVER AVENUE  New York\n",
      "[40.8322387, -73.88099679999999]\n",
      "\n",
      "FULTON STREET                     New York\n",
      "[40.7100491, -74.007383]\n",
      "\n",
      "BOYNTON AVENUE BRONX New York\n",
      "[40.8264983, -73.8777344]\n",
      "\n",
      "FULTON STREET BROOKLYN New York\n",
      "[40.67921, -73.9280339]\n",
      "\n",
      "WEST 46 STREET MANHATTAN New York\n",
      "[40.76026239999999, -73.9890357]\n",
      "\n",
      "115 AVENUE  New York\n",
      "[40.6769299, -73.77535999999999]\n",
      "\n",
      "                                          New York\n",
      "[40.7127837, -74.0059413]\n",
      "\n",
      "                                          New York\n",
      "[40.7127837, -74.0059413]\n",
      "\n",
      "BEDFORD AVENUE                    New York\n",
      "[40.6537806, -73.956165]\n",
      "\n",
      "BRUCKNER BOULEVARD                New York\n",
      "[40.8240844, -73.8762153]\n",
      "\n",
      "LINDEN BOULEVARD QUEENS New York\n",
      "[40.6716798, -73.85080909999999]\n",
      "\n",
      "BAXTER AVENUE QUEENS New York\n",
      "[40.74591179999999, -73.8837654]\n",
      "\n",
      "                                          New York\n",
      "[40.7127837, -74.0059413]\n",
      "\n",
      "                                          New York\n",
      "[40.7127837, -74.0059413]\n",
      "\n",
      "7900      17 AVENUE                       New York\n",
      "[40.6122985, -74.0009874]\n",
      "\n",
      "GRAND STREET                      New York\n",
      "[40.7174309, -73.9914517]\n",
      "\n",
      "                                          New York\n",
      "[40.7127837, -74.0059413]\n",
      "\n",
      "                                          New York\n",
      "[40.7127837, -74.0059413]\n",
      "\n",
      "                                          New York\n",
      "[40.7127837, -74.0059413]\n",
      "\n",
      "LEXINGTON AVENUE                          New York\n",
      "[40.7382169, -73.9856803]\n",
      "\n",
      "                                          New York\n",
      "[40.7127837, -74.0059413]\n",
      "\n",
      "                                          New York\n",
      "[40.7127837, -74.0059413]\n",
      "\n",
      "WEST 61 STREET MANHATTAN New York\n",
      "[40.7714977, -73.9862921]\n",
      "\n",
      "                                          New York\n",
      "[40.7127837, -74.0059413]\n",
      "\n",
      "                                          New York\n",
      "[40.7127837, -74.0059413]\n",
      "\n",
      "                                          New York\n",
      "[40.7127837, -74.0059413]\n",
      "\n",
      "WORTMAN AVENUE BROOKLYN New York\n",
      "[40.6600636, -73.877765]\n",
      "\n",
      "                                          New York\n",
      "[40.7127837, -74.0059413]\n",
      "\n",
      "BEACH CHANNEL DRIVE QUEENS New York\n",
      "[40.5889257, -73.8164927]\n",
      "\n",
      "FRESH POND ROAD QUEENS New York\n",
      "[40.7109888, -73.8997102]\n",
      "\n",
      "                                          New York\n",
      "[40.7127837, -74.0059413]\n",
      "\n",
      "LEXINGTON AVENUE                          New York\n",
      "[40.7382169, -73.9856803]\n",
      "\n",
      "WEST 57 STREET                            New York\n",
      "[40.7673199, -73.9842663]\n",
      "\n",
      "WEBSTER AVENUE                            New York\n",
      "[40.8648841, -73.8873042]\n",
      "\n",
      "SOUTHERN BOULEVARD                        New York\n",
      "[40.8370818, -73.88786850000001]\n",
      "\n",
      "                                          New York\n",
      "[40.7127837, -74.0059413]\n",
      "\n",
      "                                          New York\n",
      "[40.7127837, -74.0059413]\n",
      "\n",
      "EAST 17 STREET MANHATTAN New York\n",
      "[40.7355362, -73.98660199999999]\n",
      "\n",
      "HUTCHINSON RIVER PARKWAY EAST     New York\n",
      "[40.8484086, -73.83591950000002]\n",
      "\n",
      "CROSS BRONX EXPRESSWAY            New York\n",
      "[40.832984, -73.8598568]\n",
      "\n",
      "RAMBLES PEDESTRIAN PATH                   New York\n",
      "[40.7773651, -73.96950609999999]\n",
      "\n",
      "BRONX AND PELHAM PARKWAY          New York\n",
      "[40.857965, -73.8458667]\n",
      "\n",
      "115 STREET                        New York\n",
      "[40.8040616, -73.95658519999999]\n",
      "\n",
      "WILLIS AVENUE                     New York\n",
      "[40.8056135, -73.9255888]\n",
      "\n",
      "149 AVENUE                        New York\n",
      "[40.652791, -73.73953999999999]\n",
      "\n",
      "107 STREET                        New York\n",
      "[40.8011213, -73.9652183]\n",
      "\n",
      "ALBEMARLE ROAD                    New York\n",
      "[40.6467071, -73.9649912]\n",
      "\n",
      "KNAPP STREET                      New York\n",
      "[40.5925176, -73.9326031]\n",
      "\n",
      "EAST TREMONT AVENUE               New York\n",
      "[40.8410515, -73.86442699999999]\n",
      "\n",
      "UNION TURNPIKE                    New York\n",
      "[40.7307692, -73.7752759]\n",
      "\n",
      "FOREST HILL ROAD                  New York\n",
      "[40.5833517, -74.1496276]\n",
      "\n",
      "EAST 138 STREET                   New York\n",
      "[40.8085151, -73.9214539]\n",
      "\n",
      "JACKIE ROBINSON PARKWAY SVC RD    New York\n",
      "[nan, nan]\n",
      "\n",
      "E/B 79 STREET TRANSVERSE ROAD             New York\n",
      "[40.7367515, -73.6241411]\n",
      "\n",
      "PARK CIRCLE                       New York\n",
      "[40.6507886, -73.9725713]\n",
      "\n",
      "P/L OF 854 ARTHUR KILL ROAD               New York\n",
      "[40.56063, -74.16871189999999]\n",
      "\n",
      "SIGNS ROAD                        New York\n",
      "[40.6021942, -74.1684575]\n",
      "\n",
      "BROOKVILLE BOULEVARD              New York\n",
      "[40.662468, -73.74135509999999]\n",
      "\n",
      "RICHMOND HILL ROAD                New York\n",
      "[40.5813698, -74.1539201]\n",
      "\n",
      "BOWERY                            New York\n",
      "[40.725257, -73.9903489]\n",
      "\n",
      "CEDAR AVENUE                      New York\n",
      "[40.8575131, -73.91691900000001]\n",
      "\n",
      "BELLAMY LOOP                      New York\n",
      "[40.872648, -73.8256985]\n",
      "\n",
      "VICTORY BOULEVARD                 New York\n",
      "[40.61183800000001, -74.1384478]\n",
      "\n",
      "BEACH 210 STREET                  New York\n",
      "[40.56054899999999, -73.9201875]\n",
      "\n",
      "SIGNS ROAD                        New York\n",
      "[40.6021942, -74.1684575]\n",
      "\n",
      "SHORE PARKWAY                     New York\n",
      "[40.620333, -73.89756930000001]\n",
      "\n",
      "SHELLBANK CREEK(NATURE CENTER BEACH AREA  New York\n",
      "[nan, nan]\n",
      "\n",
      "168 STREET                        New York\n",
      "[40.8395144, -73.9360241]\n",
      "\n",
      "UTOPIA PARKWAY                    New York\n",
      "[40.7554895, -73.7927824]\n",
      "\n",
      "UTOPIA PARKWAY                    New York\n",
      "[40.7554895, -73.7927824]\n",
      "\n",
      "UTOPIA PARKWAY                    New York\n",
      "[40.7554895, -73.7927824]\n",
      "\n",
      "MARINE PARK NATURE CENTER(MARSH AREA)     New York\n",
      "[40.6040464, -73.93063190000001]\n",
      "\n",
      "CROSS BRONX EXPRESSWAY            New York\n",
      "[40.832984, -73.8598568]\n",
      "\n",
      "WEST 225 STREET                   New York\n",
      "[40.8745392, -73.90958619999999]\n",
      "\n",
      "WALKER DRIVE                      New York\n",
      "[40.6309485, -74.1497622]\n",
      "\n",
      "HILLSIDE AVENUE                   New York\n",
      "[40.8593797, -73.9273855]\n",
      "\n",
      "PARKCIRLCE                                New York\n",
      "[40.6507886, -73.9725713]\n",
      "\n",
      "WEST 6 STREET                     New York\n",
      "[40.602346, -73.9786096]\n",
      "\n",
      "DEKALB AVENUE                     New York\n",
      "[40.6918681, -73.9470685]\n",
      "\n",
      "S/B HUTCH RIV PKWY @ PELHAM BAY           New York\n",
      "[40.8554356, -73.8312803]\n",
      "\n",
      "BELMONT AVENUE                    New York\n",
      "[40.8510797, -73.8879979]\n",
      "\n",
      "PARKING LOT 137-05 20 AVE                 New York\n",
      "[40.7856805, -73.8460874]\n",
      "\n",
      "COOPER AVENUE                     New York\n",
      "[40.7020669, -73.8803203]\n",
      "\n",
      "WEST 234 STREET                   New York\n",
      "[40.88218120000001, -73.9036991]\n",
      "\n",
      "ROOSEVELT ISLAND                          New York\n",
      "[40.76050310000001, -73.9509934]\n",
      "\n",
      "BRONX RIVER PARKWAY               New York\n",
      "[40.9474366, -73.8346007]\n",
      "\n",
      "JACKIE ROBINSON PARKWAY SVC RD    New York\n",
      "[nan, nan]\n",
      "\n",
      "BROOKVILLE BOULEVARD              New York\n",
      "[40.662468, -73.74135509999999]\n",
      "\n",
      "GRAND CENTRAL PARKWAY             New York\n",
      "[40.7288293, -73.8394838]\n",
      "\n",
      "PARKING LOT 86-18 BROADWAY                New York\n",
      "[40.6716686, -73.41661409999999]\n",
      "\n",
      "41 STREET                         New York\n",
      "[40.7501523, -73.9750225]\n",
      "\n",
      "LIBERTY AVENUE                    New York\n",
      "[40.6839157, -73.83323399999999]\n",
      "\n",
      "N/B FLATBUSH AVE & PLAZA STREET WEST      New York\n",
      "[40.672788, -73.9692029]\n",
      "\n",
      "JAY STREET                        New York\n",
      "[40.7179938, -74.00949229999999]\n",
      "\n",
      "INSIDE OF 58-02 48 STREET                 New York\n",
      "[40.7529484, -73.91419979999999]\n",
      "\n",
      "EAST TREMONT AVENUE               New York\n",
      "[40.8410515, -73.86442699999999]\n",
      "\n",
      "BRUCKNER BOULEVARD                New York\n",
      "[40.8240844, -73.8762153]\n",
      "\n",
      "CLARENDON ROAD                    New York\n",
      "[40.6438807, -73.938519]\n",
      "\n",
      "CLEVELAND STREET                  New York\n",
      "[40.6710974, -73.8835697]\n",
      "\n",
      "NOSTRAND AVENUE                   New York\n",
      "[40.6414193, -73.94857209999999]\n",
      "\n",
      "PURDY AVENUE                      New York\n",
      "[40.6101385, -74.1346593]\n",
      "\n",
      "107 STREET                        New York\n",
      "[40.8011213, -73.9652183]\n",
      "\n",
      "HALSEY STREET                     New York\n",
      "[40.684338, -73.92784499999999]\n",
      "\n",
      "ASTOR PLACE                       New York\n",
      "[40.7298544, -73.9913978]\n",
      "\n",
      "EAST 188 STREET                   New York\n",
      "[40.8590563, -73.89150959999999]\n",
      "\n",
      "MEEKER AVENUE                     New York\n",
      "[40.7211136, -73.9427992]\n",
      "\n",
      "131 STREET                        New York\n",
      "[40.8092383, -73.9371915]\n",
      "\n",
      "GRAND AVENUE                      New York\n",
      "[40.7242841, -73.898448]\n",
      "\n",
      "31 AVENUE                         New York\n",
      "[40.7580081, -73.8976923]\n",
      "\n",
      "SAINT MARKS AVENUE                New York\n",
      "[40.67645630000001, -73.95855259999999]\n",
      "\n",
      "CRESCENT STREET                   New York\n",
      "[40.76524939999999, -73.9266889]\n",
      "\n",
      "141 STREET                        New York\n",
      "[40.8205915, -73.9444697]\n",
      "\n",
      "CLAY AVENUE                       New York\n",
      "[40.8372102, -73.90798269999999]\n",
      "\n",
      "DREISER LOOP                      New York\n",
      "[40.8772446, -73.8295265]\n",
      "\n",
      "FOREST AVENUE                     New York\n",
      "[40.6255926, -74.13504069999999]\n",
      "\n",
      "GRAHAM AVENUE                     New York\n",
      "[40.7123777, -73.944034]\n",
      "\n",
      "ROOSEVELT ISLAND BRIDGE & MAIN ST         New York\n",
      "[40.7641352, -73.9476803]\n",
      "\n",
      "BORDEN AVENUE                     New York\n",
      "[40.7366233, -73.9281098]\n",
      "\n",
      "FRONT OF 1100 FOREST HILL RD              New York\n",
      "[42.9280884, -78.8674158]\n",
      "\n",
      "WOLCOTT AVENUE                    New York\n",
      "[40.54955870000001, -74.17684659999999]\n",
      "\n",
      "FROST STREET                      New York\n",
      "[40.7181278, -73.9442574]\n",
      "\n",
      "HORACE HARDING EXPRESSWAY         New York\n",
      "[40.7424764, -73.78189569999999]\n",
      "\n",
      "MARCY AVENUE                      New York\n",
      "[40.6975765, -73.94964770000001]\n",
      "\n",
      "S/B PROSPECT PARK WEST & 3RD ST           New York\n",
      "[40.6682162, -73.973828]\n",
      "\n",
      "SIMONSON AVENUE                   New York\n",
      "[40.6318492, -74.152217]\n",
      "\n",
      "P/L OF 2424 HYLAN BLVD                    New York\n",
      "[40.5720016, -74.1073006]\n",
      "\n",
      "1672 86 ST(GAS STATION)                   New York\n",
      "[40.6086542, -74.0057286]\n",
      "\n",
      "WHITESTONE EXPRESSWAY             New York\n",
      "[40.735104, -73.83646399999999]\n",
      "\n",
      "BRUCKNER BOULEVARD                New York\n",
      "[40.8240844, -73.8762153]\n",
      "\n",
      "27 STREET                         New York\n",
      "[40.7478166, -73.9966529]\n",
      "\n",
      "197 STREET                        New York\n",
      "[40.7196666, -73.76581089999999]\n",
      "\n",
      "6601 AVENUE U(PARKING LOT)                New York\n",
      "[42.5412965, -75.52511559999999]\n",
      "\n",
      "WEST 167 STREET                   New York\n",
      "[40.8392503, -73.92837349999999]\n",
      "\n",
      "EAST 187 STREET                   New York\n",
      "[40.8569118, -73.89012269999999]\n",
      "\n",
      "WALLACE AVENUE                    New York\n",
      "[40.874773, -73.863711]\n",
      "\n",
      "BROADWAY                          New York\n",
      "[41.1115472, -73.85838059999999]\n",
      "\n",
      "65 STREET                         New York\n",
      "[40.7739238, -73.9843109]\n",
      "\n",
      "OCEAN PARKWAY                     New York\n",
      "[40.6130974, -73.9686455]\n",
      "\n",
      "SNUG HARBOR ROAD                  New York\n",
      "[40.6443486, -74.10565230000002]\n",
      "\n",
      "SHORE PARKWAY                     New York\n",
      "[40.620333, -73.89756930000001]\n",
      "\n",
      "RESERVOIR AVENUE                  New York\n",
      "[40.8721333, -73.89789189999999]\n",
      "\n",
      "CLOVERDALE BOULEVARD              New York\n",
      "[40.748801, -73.75044199999999]\n",
      "\n",
      "4 AVENUE                          New York\n",
      "[40.7323483, -73.9901259]\n",
      "\n",
      "CLARENDON ROAD                    New York\n",
      "[40.6438807, -73.938519]\n",
      "\n",
      "EAST 136 STREET                   New York\n",
      "[40.8062714, -73.9201784]\n",
      "\n",
      "TYSENS LANE                       New York\n",
      "[40.5653606, -74.1187537]\n",
      "\n",
      "EAST 187 STREET                   New York\n",
      "[40.8569118, -73.89012269999999]\n",
      "\n",
      "MOSHOLU PARKWAY                   New York\n",
      "[40.885055, -73.8869527]\n",
      "\n",
      "COURT STREET                      New York\n",
      "[40.680315, -73.996887]\n",
      "\n",
      "EUCLID AVENUE                     New York\n",
      "[40.67603709999999, -73.8720675]\n",
      "\n",
      "QUEENS BOULEVARD                  New York\n",
      "[40.7340293, -73.87298849999999]\n",
      "\n",
      "80 STREET                         New York\n",
      "[40.7841698, -73.9786103]\n",
      "\n",
      "ROCKAWAY BOULEVARD                New York\n",
      "[40.6742403, -73.8006001]\n",
      "\n",
      "HORACE HARDING EXPRESSWAY         New York\n",
      "[40.7424764, -73.78189569999999]\n",
      "\n",
      "PARKING GARAGE @ 21 BARCLAY STREET        New York\n",
      "[40.7125177, -74.00876060000002]\n",
      "\n",
      "VERMONT STREET                    New York\n",
      "[40.6688844, -73.8931265]\n",
      "\n",
      "BEACH 84 STREET                   New York\n",
      "[40.5884751, -73.80981349999999]\n",
      "\n",
      "48 STREET                         New York\n",
      "[40.7545701, -73.9716815]\n",
      "\n",
      "149 AVENUE                        New York\n",
      "[40.652791, -73.73953999999999]\n",
      "\n",
      "LINDEN BOULEVARD                  New York\n",
      "[40.6578345, -73.8964115]\n",
      "\n",
      "WEST HOUSTON STREET               New York\n",
      "[40.72785940000001, -74.0030949]\n",
      "\n",
      "WEST 170 STREET                   New York\n",
      "[40.8420924, -73.9262317]\n",
      "\n",
      "VICTORY BOULEVARD                 New York\n",
      "[40.61183800000001, -74.1384478]\n"
     ]
    }
   ],
   "source": [
    "# pass it the row\n",
    "mvd_locs = vehicle_deaths.apply (lambda row: maybe_get_location (row),axis=1)"
   ]
  },
  {
   "cell_type": "code",
   "execution_count": 184,
   "metadata": {
    "collapsed": false
   },
   "outputs": [
    {
     "name": "stderr",
     "output_type": "stream",
     "text": [
      "\n",
      "\n",
      "\n",
      "p:   0%|          | 0/1233 [00:00<?, ?it/s]\u001b[A\u001b[A\u001b[A\n",
      "\n",
      "\n",
      "p:  40%|███▉      | 490/1233 [00:00<00:00, 4897.14it/s]\u001b[A\u001b[A\u001b[A\n",
      "\n",
      "\n",
      "p:  93%|█████████▎| 1142/1233 [00:00<00:00, 5291.06it/s]\u001b[A\u001b[A\u001b[A\n",
      "\n",
      "\n",
      "p: 100%|██████████| 1233/1233 [00:00<00:00, 3652.17it/s]\u001b[A\u001b[A\u001b[A"
     ]
    }
   ],
   "source": [
    "# turn the series of lists [lat,lng] into it's own frame, i.e. two series\n",
    "mvd_loc_df = mvd_locs.progress_apply(pd.Series)"
   ]
  },
  {
   "cell_type": "code",
   "execution_count": 185,
   "metadata": {
    "collapsed": false
   },
   "outputs": [
    {
     "data": {
      "text/plain": [
       "0    43\n",
       "1    43\n",
       "dtype: int64"
      ]
     },
     "execution_count": 185,
     "metadata": {},
     "output_type": "execute_result"
    }
   ],
   "source": [
    "# vehicle_deaths[vehicle_deaths.isnull()['latitude']]\n",
    "mvd_loc_df.isnull().sum()"
   ]
  },
  {
   "cell_type": "code",
   "execution_count": 186,
   "metadata": {
    "collapsed": true
   },
   "outputs": [],
   "source": [
    "# add locations from our other table\n",
    "vehicle_deaths['latitude'] = mvd_loc_df[0]\n",
    "vehicle_deaths['longitude'] = mvd_loc_df[1]"
   ]
  },
  {
   "cell_type": "code",
   "execution_count": 187,
   "metadata": {
    "collapsed": false
   },
   "outputs": [
    {
     "name": "stdout",
     "output_type": "stream",
     "text": [
      "borough               393\n",
      "cross_street_name    1135\n",
      "date                    0\n",
      "latitude               43\n",
      "location              271\n",
      "longitude              43\n",
      "off_street_name       260\n",
      "on_street_name        212\n",
      "zip_code              393\n",
      "dtype: int64\n"
     ]
    }
   ],
   "source": [
    "# vehicle_deaths.columns\n",
    "print(vehicle_deaths.isnull().sum())\n",
    "# vehicle_deaths[vehicle_deaths.isnull()['latitude']]"
   ]
  },
  {
   "cell_type": "code",
   "execution_count": 188,
   "metadata": {
    "collapsed": false
   },
   "outputs": [],
   "source": [
    "vehicle_deaths.drop(['borough',  'cross_street_name', 'location', 'off_street_name', 'on_street_name', 'zip_code'], axis = 1, inplace = True)\n",
    "vehicle_deaths.columns = ['date', 'lat','lng' ] # 'num'\n",
    "vehicle_deaths['kind']= 'v'\n"
   ]
  },
  {
   "cell_type": "markdown",
   "metadata": {},
   "source": [
    "### Deaths by Police\n"
   ]
  },
  {
   "cell_type": "code",
   "execution_count": 189,
   "metadata": {
    "collapsed": false
   },
   "outputs": [],
   "source": [
    "all_by_police = pd.concat([pd.read_csv('https://raw.githubusercontent.com/flother/thecounted/master/data/the-counted-2016.csv'),  pd.read_csv('https://raw.githubusercontent.com/flother/thecounted/master/data/the-counted-2015.csv')] )\n"
   ]
  },
  {
   "cell_type": "code",
   "execution_count": 190,
   "metadata": {
    "collapsed": false,
    "scrolled": true
   },
   "outputs": [
    {
     "data": {
      "text/html": [
       "<div>\n",
       "<table border=\"1\" class=\"dataframe\">\n",
       "  <thead>\n",
       "    <tr style=\"text-align: right;\">\n",
       "      <th></th>\n",
       "      <th>uid</th>\n",
       "      <th>name</th>\n",
       "      <th>age</th>\n",
       "      <th>gender</th>\n",
       "      <th>raceethnicity</th>\n",
       "      <th>month</th>\n",
       "      <th>day</th>\n",
       "      <th>year</th>\n",
       "      <th>streetaddress</th>\n",
       "      <th>city</th>\n",
       "      <th>state</th>\n",
       "      <th>classification</th>\n",
       "      <th>lawenforcementagency</th>\n",
       "      <th>armed</th>\n",
       "    </tr>\n",
       "  </thead>\n",
       "  <tbody>\n",
       "    <tr>\n",
       "      <th>239</th>\n",
       "      <td>2016461</td>\n",
       "      <td>Richard Gonzalez</td>\n",
       "      <td>55</td>\n",
       "      <td>Male</td>\n",
       "      <td>Hispanic/Latino</td>\n",
       "      <td>March</td>\n",
       "      <td>16</td>\n",
       "      <td>2016</td>\n",
       "      <td>416 E 137th St</td>\n",
       "      <td>New York</td>\n",
       "      <td>NY</td>\n",
       "      <td>Death in custody</td>\n",
       "      <td>New York Police Department</td>\n",
       "      <td>No</td>\n",
       "    </tr>\n",
       "  </tbody>\n",
       "</table>\n",
       "</div>"
      ],
      "text/plain": [
       "         uid              name age gender    raceethnicity  month  day  year  \\\n",
       "239  2016461  Richard Gonzalez  55   Male  Hispanic/Latino  March   16  2016   \n",
       "\n",
       "      streetaddress      city state    classification  \\\n",
       "239  416 E 137th St  New York    NY  Death in custody   \n",
       "\n",
       "           lawenforcementagency armed  \n",
       "239  New York Police Department    No  "
      ]
     },
     "execution_count": 190,
     "metadata": {},
     "output_type": "execute_result"
    }
   ],
   "source": [
    "ny_by_police = all_by_police[all_by_police['state']=='NY']\n",
    "depts = ['New York Police Department', 'New York City Police Department', 'New York State Police', 'New York court officer']\n",
    "ny_by_police = ny_by_police[ny_by_police['lawenforcementagency'].isin(depts)]\n",
    "not_nyc = ['Berne', 'Catskill', 'Mount Vernon']\n",
    "ny_by_police = ny_by_police[~ny_by_police['city'].isin(not_nyc)]\n",
    "ny_by_police[:1]\n"
   ]
  },
  {
   "cell_type": "code",
   "execution_count": 191,
   "metadata": {
    "collapsed": false
   },
   "outputs": [
    {
     "name": "stderr",
     "output_type": "stream",
     "text": [
      "\n",
      "\n",
      "\n",
      "p:   0%|          | 0/14 [00:00<?, ?it/s]\u001b[A\u001b[A\u001b[A"
     ]
    },
    {
     "name": "stdout",
     "output_type": "stream",
     "text": [
      "\n",
      "416 E 137th St New York NY\n"
     ]
    },
    {
     "name": "stderr",
     "output_type": "stream",
     "text": [
      "\n",
      "\n",
      "\n",
      "\r",
      "p:  14%|█▍        | 2/14 [00:00<00:05,  2.21it/s]"
     ]
    },
    {
     "name": "stdout",
     "output_type": "stream",
     "text": [
      "[40.8079247, -73.9225994]\n",
      "\n",
      "116th Ave and 135th St South Ozone Park NY\n"
     ]
    },
    {
     "name": "stderr",
     "output_type": "stream",
     "text": [
      "\u001b[A\u001b[A\u001b[A\n",
      "\n",
      "\n",
      "p:  21%|██▏       | 3/14 [00:01<00:06,  1.72it/s]"
     ]
    },
    {
     "name": "stdout",
     "output_type": "stream",
     "text": [
      "[40.6790399, -73.8054241]\n",
      "\n",
      "810 8th Ave New York NY\n"
     ]
    },
    {
     "name": "stderr",
     "output_type": "stream",
     "text": [
      "\u001b[A\u001b[A\u001b[A\n",
      "\n",
      "\n",
      "p:  29%|██▊       | 4/14 [00:03<00:07,  1.29it/s]"
     ]
    },
    {
     "name": "stdout",
     "output_type": "stream",
     "text": [
      "[40.7618119, -73.98607009999999]\n",
      "\n",
      "725 Randall Ave Bronx NY\n"
     ]
    },
    {
     "name": "stderr",
     "output_type": "stream",
     "text": [
      "\u001b[A\u001b[A\u001b[A\n",
      "\n",
      "\n",
      "p:  36%|███▌      | 5/14 [00:03<00:06,  1.37it/s]"
     ]
    },
    {
     "name": "stdout",
     "output_type": "stream",
     "text": [
      "[40.8111657, -73.8932478]\n",
      "\n",
      "Atlantic Ave Brooklyn NY\n"
     ]
    },
    {
     "name": "stderr",
     "output_type": "stream",
     "text": [
      "\u001b[A\u001b[A\u001b[A\n",
      "\n",
      "\n",
      "p:  43%|████▎     | 6/14 [00:04<00:06,  1.23it/s]"
     ]
    },
    {
     "name": "stdout",
     "output_type": "stream",
     "text": [
      "[40.6777246, -73.9344533]\n",
      "\n",
      "78th St Brooklyn NY\n"
     ]
    },
    {
     "name": "stderr",
     "output_type": "stream",
     "text": [
      "\u001b[A\u001b[A\u001b[A\n",
      "\n",
      "\n",
      "p:  50%|█████     | 7/14 [00:05<00:05,  1.18it/s]"
     ]
    },
    {
     "name": "stdout",
     "output_type": "stream",
     "text": [
      "[40.619914, -74.01142]\n",
      "\n",
      "Debevoise Ave Brooklyn NY\n"
     ]
    },
    {
     "name": "stderr",
     "output_type": "stream",
     "text": [
      "\u001b[A\u001b[A\u001b[A\n",
      "\n",
      "\n",
      "p:  57%|█████▋    | 8/14 [00:06<00:04,  1.22it/s]"
     ]
    },
    {
     "name": "stdout",
     "output_type": "stream",
     "text": [
      "[40.7200857, -73.93954959999999]\n",
      "\n",
      "161 Bedford Ave Brooklyn NY\n"
     ]
    },
    {
     "name": "stderr",
     "output_type": "stream",
     "text": [
      "\u001b[A\u001b[A\u001b[A\n",
      "\n",
      "\n",
      "p:  64%|██████▍   | 9/14 [00:07<00:04,  1.24it/s]"
     ]
    },
    {
     "name": "stdout",
     "output_type": "stream",
     "text": [
      "[40.718402, -73.9567129]\n",
      "\n",
      "162-25 Liberty Ave Jamaica NY\n"
     ]
    },
    {
     "name": "stderr",
     "output_type": "stream",
     "text": [
      "\u001b[A\u001b[A\u001b[A\n",
      "\n",
      "\n",
      "p:  71%|███████▏  | 10/14 [00:07<00:03,  1.22it/s]"
     ]
    },
    {
     "name": "stdout",
     "output_type": "stream",
     "text": [
      "[40.70251620000001, -73.7916017]\n",
      "\n",
      "Pugsley Ave Bronx NY\n"
     ]
    },
    {
     "name": "stderr",
     "output_type": "stream",
     "text": [
      "\u001b[A\u001b[A\u001b[A\n",
      "\n",
      "\n",
      "p:  79%|███████▊  | 11/14 [00:08<00:02,  1.18it/s]"
     ]
    },
    {
     "name": "stdout",
     "output_type": "stream",
     "text": [
      "[40.8257052, -73.8559046]\n",
      "\n",
      "Mayflower Ave Bronx NY\n"
     ]
    },
    {
     "name": "stderr",
     "output_type": "stream",
     "text": [
      "\u001b[A\u001b[A\u001b[A\n",
      "\n",
      "\n",
      "p:  86%|████████▌ | 12/14 [00:09<00:01,  1.17it/s]"
     ]
    },
    {
     "name": "stdout",
     "output_type": "stream",
     "text": [
      "[40.844379, -73.8346455]\n",
      "\n",
      "Beach Ave Bronx NY\n"
     ]
    },
    {
     "name": "stderr",
     "output_type": "stream",
     "text": [
      "\u001b[A\u001b[A\u001b[A\n",
      "\n",
      "\n",
      "p:  93%|█████████▎| 13/14 [00:10<00:00,  1.17it/s]"
     ]
    },
    {
     "name": "stdout",
     "output_type": "stream",
     "text": [
      "[40.83295, -73.866547]\n",
      "\n",
      "362 Sutter Ave Brooklyn NY\n"
     ]
    },
    {
     "name": "stderr",
     "output_type": "stream",
     "text": [
      "\u001b[A\u001b[A\u001b[A\n",
      "\n",
      "\n",
      "p: 100%|██████████| 14/14 [00:11<00:00,  1.29it/s]"
     ]
    },
    {
     "name": "stdout",
     "output_type": "stream",
     "text": [
      "[40.6673224, -73.9059042]\n",
      "\n",
      "16802 Hillside Ave New York NY\n"
     ]
    },
    {
     "name": "stderr",
     "output_type": "stream",
     "text": [
      "\u001b[A\u001b[A\u001b[A\n",
      "\n",
      "\n",
      "p: 15it [00:12,  1.13it/s]                        "
     ]
    },
    {
     "name": "stdout",
     "output_type": "stream",
     "text": [
      "[40.709901, -73.79432]\n",
      "\n",
      "538 E Sixth St New York NY\n"
     ]
    },
    {
     "name": "stderr",
     "output_type": "stream",
     "text": [
      "\u001b[A\u001b[A\u001b[A\n",
      "\n",
      "\n",
      "p: 16it [00:13,  1.12it/s]"
     ]
    },
    {
     "name": "stdout",
     "output_type": "stream",
     "text": [
      "[40.7245394, -73.9822911]\n",
      "\n",
      "274 E 194th St New York NY\n"
     ]
    },
    {
     "name": "stderr",
     "output_type": "stream",
     "text": [
      "\u001b[A\u001b[A\u001b[A\n",
      "\n",
      "\n",
      "p: 17it [00:13,  1.20it/s]"
     ]
    },
    {
     "name": "stdout",
     "output_type": "stream",
     "text": [
      "[40.86466799999999, -73.8924023]\n",
      "\n",
      "530 Stanley Ave New York NY\n"
     ]
    },
    {
     "name": "stderr",
     "output_type": "stream",
     "text": [
      "\u001b[A\u001b[A\u001b[A\n",
      "\n",
      "\n",
      "p: 18it [00:14,  1.23it/s]"
     ]
    },
    {
     "name": "stdout",
     "output_type": "stream",
     "text": [
      "[40.6569711, -73.888674]\n",
      "\n",
      "2263 Loring Pl New York NY\n"
     ]
    },
    {
     "name": "stderr",
     "output_type": "stream",
     "text": [
      "\u001b[A\u001b[A\u001b[A\n",
      "\n",
      "\n",
      "p: 19it [00:15,  1.22it/s]"
     ]
    },
    {
     "name": "stdout",
     "output_type": "stream",
     "text": [
      "[40.8606919, -73.9091761]\n",
      "\n",
      "2000 Valentine Ave New York NY\n"
     ]
    },
    {
     "name": "stderr",
     "output_type": "stream",
     "text": [
      "\u001b[A\u001b[A\u001b[A\n",
      "\n",
      "\n",
      "p: 20it [00:16,  1.14it/s]"
     ]
    },
    {
     "name": "stdout",
     "output_type": "stream",
     "text": [
      "[40.85052779999999, -73.9003312]\n",
      "\n",
      "3150 Ocean Pkwy New York NY\n"
     ]
    },
    {
     "name": "stderr",
     "output_type": "stream",
     "text": [
      "\u001b[A\u001b[A\u001b[A\n",
      "\n",
      "\n",
      "p: 21it [00:18,  1.12s/it]"
     ]
    },
    {
     "name": "stdout",
     "output_type": "stream",
     "text": [
      "[40.5753128, -73.969084]\n",
      "\n",
      "15 Destiny Ct New York NY\n"
     ]
    },
    {
     "name": "stderr",
     "output_type": "stream",
     "text": [
      "\u001b[A\u001b[A\u001b[A\n",
      "\n",
      "\n",
      "p: 22it [00:18,  1.05it/s]"
     ]
    },
    {
     "name": "stdout",
     "output_type": "stream",
     "text": [
      "[40.6304677, -74.16069139999999]\n",
      "\n",
      "Saw Mill River Pkwy Yonkers NY\n"
     ]
    },
    {
     "name": "stderr",
     "output_type": "stream",
     "text": [
      "\u001b[A\u001b[A\u001b[A"
     ]
    },
    {
     "name": "stdout",
     "output_type": "stream",
     "text": [
      "[40.92606749999999, -73.8805385]\n"
     ]
    },
    {
     "name": "stderr",
     "output_type": "stream",
     "text": [
      "\n",
      "\n",
      "\n",
      "\u001b[A\u001b[A\u001b[A"
     ]
    }
   ],
   "source": [
    "def get_location_police(row):\n",
    "    return get_lat_lng(row.streetaddress+' '+row.city+ ' '+ row.state)\n",
    "# pass it the row\n",
    "by_police_loc = ny_by_police.progress_apply (lambda row: get_location_police (row),axis=1).apply(pd.Series)"
   ]
  },
  {
   "cell_type": "code",
   "execution_count": 192,
   "metadata": {
    "collapsed": false
   },
   "outputs": [
    {
     "data": {
      "text/plain": [
       "Index(['uid', 'name', 'age', 'gender', 'raceethnicity', 'month', 'day', 'year',\n",
       "       'streetaddress', 'city', 'state', 'classification',\n",
       "       'lawenforcementagency', 'armed', 'lat', 'lng'],\n",
       "      dtype='object')"
      ]
     },
     "execution_count": 192,
     "metadata": {},
     "output_type": "execute_result"
    }
   ],
   "source": [
    "# by_police_loc\n",
    "# turn the series of lists [lat,lng] into it's own frame, i.e. two series\n",
    "# mvd_loc_df = mvd_locs.apply(pd.Series)\n",
    "ny_by_police['lat'] = by_police_loc[0]\n",
    "ny_by_police['lng'] = by_police_loc[1]\n",
    "# ny_by_police[:1]\n",
    "ny_by_police.columns"
   ]
  },
  {
   "cell_type": "code",
   "execution_count": 193,
   "metadata": {
    "collapsed": false,
    "scrolled": true
   },
   "outputs": [
    {
     "data": {
      "text/html": [
       "<div>\n",
       "<table border=\"1\" class=\"dataframe\">\n",
       "  <thead>\n",
       "    <tr style=\"text-align: right;\">\n",
       "      <th></th>\n",
       "      <th>lat</th>\n",
       "      <th>lng</th>\n",
       "      <th>date</th>\n",
       "      <th>kind</th>\n",
       "    </tr>\n",
       "  </thead>\n",
       "  <tbody>\n",
       "    <tr>\n",
       "      <th>239</th>\n",
       "      <td>40.807925</td>\n",
       "      <td>-73.922599</td>\n",
       "      <td>March 16 2016</td>\n",
       "      <td>b</td>\n",
       "    </tr>\n",
       "  </tbody>\n",
       "</table>\n",
       "</div>"
      ],
      "text/plain": [
       "           lat        lng           date kind\n",
       "239  40.807925 -73.922599  March 16 2016    b"
      ]
     },
     "execution_count": 193,
     "metadata": {},
     "output_type": "execute_result"
    }
   ],
   "source": [
    "# ny_by_police[:1]\n",
    "ny_by_police['date'] = ny_by_police.apply (lambda row:  row.month+' '+str(row.day)+' '+ str(row.year), axis=1)\n",
    "# ny_by_police = ny_by_police[['lat', 'lng', 'date']]\n",
    "#  just use drop, that creates a warning, \n",
    "ny_by_police['kind'] = 'b'\n",
    "p_cols_to_drop = ['uid', 'name', 'age', 'gender', 'raceethnicity', 'month', 'day', 'year', 'streetaddress', 'city', 'state', 'classification','lawenforcementagency', 'armed']\n",
    "ny_by_police.drop(p_cols_to_drop, axis = 1, inplace = True)\n",
    "ny_by_police[:1]"
   ]
  },
  {
   "cell_type": "markdown",
   "metadata": {},
   "source": [
    "### OSHA"
   ]
  },
  {
   "cell_type": "code",
   "execution_count": 194,
   "metadata": {
    "collapsed": true
   },
   "outputs": [],
   "source": [
    "# https://stackoverflow.com/a/10077069/83859\n",
    "from xml.etree import ElementTree\n",
    "from collections import defaultdict\n",
    "\n",
    "def etree_to_dict(t):\n",
    "    d = {t.tag: {} if t.attrib else None}\n",
    "    children = list(t)\n",
    "    if children:\n",
    "        dd = defaultdict(list)\n",
    "        for dc in map(etree_to_dict, children):\n",
    "            for k, v in dc.items():\n",
    "                dd[k].append(v)\n",
    "        d = {t.tag: {k:v[0] if len(v) == 1 else v for k, v in dd.items()}}\n",
    "    if t.attrib:\n",
    "        d[t.tag].update(('@' + k, v) for k, v in t.attrib.items())\n",
    "    if t.text:\n",
    "        text = t.text.strip()\n",
    "        if children or t.attrib:\n",
    "            if text:\n",
    "              d[t.tag]['#text'] = text\n",
    "        else:\n",
    "            d[t.tag] = text\n",
    "    return d"
   ]
  },
  {
   "cell_type": "code",
   "execution_count": 195,
   "metadata": {
    "collapsed": true
   },
   "outputs": [],
   "source": [
    "response = requests.get('https://www.osha.gov/dep/fatcat/fatcats.xml')\n",
    "# print(response)\n",
    "\n",
    "tree = ElementTree.fromstring(response.content)"
   ]
  },
  {
   "cell_type": "code",
   "execution_count": 196,
   "metadata": {
    "collapsed": true
   },
   "outputs": [],
   "source": [
    "pd.set_option('max_colwidth', 800)\n"
   ]
  },
  {
   "cell_type": "code",
   "execution_count": 197,
   "metadata": {
    "collapsed": false
   },
   "outputs": [
    {
     "data": {
      "text/html": [
       "<div>\n",
       "<table border=\"1\" class=\"dataframe\">\n",
       "  <thead>\n",
       "    <tr style=\"text-align: right;\">\n",
       "      <th></th>\n",
       "      <th>date</th>\n",
       "      <th>description</th>\n",
       "      <th>employer</th>\n",
       "    </tr>\n",
       "  </thead>\n",
       "  <tbody>\n",
       "    <tr>\n",
       "      <th>3</th>\n",
       "      <td>2017-04-27</td>\n",
       "      <td>A worker died after falling from a 6 foot ladder.</td>\n",
       "      <td>MHP Real Estate Services, 180 Maiden Lane NEW YORK  NY 10038</td>\n",
       "    </tr>\n",
       "  </tbody>\n",
       "</table>\n",
       "</div>"
      ],
      "text/plain": [
       "         date                                        description  \\\n",
       "3  2017-04-27  A worker died after falling from a 6 foot ladder.   \n",
       "\n",
       "                                                       employer  \n",
       "3  MHP Real Estate Services, 180 Maiden Lane NEW YORK  NY 10038  "
      ]
     },
     "execution_count": 197,
     "metadata": {},
     "output_type": "execute_result"
    }
   ],
   "source": [
    "# this has 2016 and 2017, in xml\n",
    "osha_current = pd.DataFrame.from_records( etree_to_dict(tree)['events']['incident'] )\n",
    "# print(osha_current[:4].employer[3])\n",
    "# osha_current[:1]\n",
    "\n",
    "# just ny state for (mostly)\n",
    "osha_current = osha_current[osha_current.employer.str.contains('NY')]\n",
    "# drop what we're not using\n",
    "osha_current.drop(['fatcat', 'inspection', 'victim'], axis=1, inplace=True)\n",
    "osha_current[:1]"
   ]
  },
  {
   "cell_type": "code",
   "execution_count": 198,
   "metadata": {
    "collapsed": false
   },
   "outputs": [
    {
     "name": "stderr",
     "output_type": "stream",
     "text": [
      "\n",
      "\n",
      "\n",
      "p:   0%|          | 0/3 [00:00<?, ?it/s]\u001b[A\u001b[A\u001b[A"
     ]
    },
    {
     "name": "stdout",
     "output_type": "stream",
     "text": [
      "\n",
      "180 Maiden Lane NEW YORK  NY 10038\n"
     ]
    },
    {
     "name": "stderr",
     "output_type": "stream",
     "text": [
      "\n",
      "\n",
      "\n",
      "\r",
      "p:  67%|██████▋   | 2/3 [00:00<00:00,  2.11it/s]"
     ]
    },
    {
     "name": "stdout",
     "output_type": "stream",
     "text": [
      "[40.7052599, -74.0055148]\n",
      "\n",
      "140 N 6th Street LEWISTON  NY 14092\n"
     ]
    },
    {
     "name": "stderr",
     "output_type": "stream",
     "text": [
      "\u001b[A\u001b[A\u001b[A\n",
      "\n",
      "\n",
      "p: 100%|██████████| 3/3 [00:02<00:00,  1.43it/s]"
     ]
    },
    {
     "name": "stdout",
     "output_type": "stream",
     "text": [
      "[43.1734666, -79.0395803]\n",
      "\n",
      "Bridge over Yellstone River LIVINGSTON  MT 59047\n"
     ]
    },
    {
     "name": "stderr",
     "output_type": "stream",
     "text": [
      "\u001b[A\u001b[A\u001b[A\n",
      "\n",
      "\n",
      "p: 4it [00:02,  1.42it/s]                       "
     ]
    },
    {
     "name": "stdout",
     "output_type": "stream",
     "text": [
      "[45.6364423, -110.5747591]\n",
      "\n",
      "9 Hook Rd RHINEBECK  NY 12572\n"
     ]
    },
    {
     "name": "stderr",
     "output_type": "stream",
     "text": [
      "\u001b[A\u001b[A\u001b[A\n",
      "\n",
      "\n",
      "p: 5it [00:03,  1.46it/s]"
     ]
    },
    {
     "name": "stdout",
     "output_type": "stream",
     "text": [
      "[41.961624, -73.9010589]\n",
      "\n",
      "10 Pleasant Lane OYSTER BAY  NY 11771\n"
     ]
    },
    {
     "name": "stderr",
     "output_type": "stream",
     "text": [
      "\u001b[A\u001b[A\u001b[A\n",
      "\n",
      "\n",
      "p: 6it [00:04,  1.33it/s]"
     ]
    },
    {
     "name": "stdout",
     "output_type": "stream",
     "text": [
      "[40.8495278, -73.5148698]\n",
      "\n",
      "1604 Broadway Ave  NEW YORK  NY 10019\n"
     ]
    },
    {
     "name": "stderr",
     "output_type": "stream",
     "text": [
      "\u001b[A\u001b[A\u001b[A\n",
      "\n",
      "\n",
      "p: 7it [00:05,  1.25it/s]"
     ]
    },
    {
     "name": "stdout",
     "output_type": "stream",
     "text": [
      "[40.760461, -73.984245]\n",
      "\n",
      "1233 Metropolitan Ave. BROOKLYN  NY 11237\n"
     ]
    },
    {
     "name": "stderr",
     "output_type": "stream",
     "text": [
      "\u001b[A\u001b[A\u001b[A\n",
      "\n",
      "\n",
      "p: 8it [00:06,  1.23it/s]"
     ]
    },
    {
     "name": "stdout",
     "output_type": "stream",
     "text": [
      "[40.7147333, -73.9273927]\n",
      "\n",
      "222 RUSSELL BOULEVARD SAINT LOUIS  MO 63104\n"
     ]
    },
    {
     "name": "stderr",
     "output_type": "stream",
     "text": [
      "\u001b[A\u001b[A\u001b[A\n",
      "\n",
      "\u001b[A\u001b[A\n",
      "\n",
      "p: 9it [00:06,  1.24it/s]"
     ]
    },
    {
     "name": "stdout",
     "output_type": "stream",
     "text": [
      "[38.6046087, -90.2005751]\n",
      "\n",
      "1845 Emerson Street ROCHESTER  NY 14606\n"
     ]
    },
    {
     "name": "stderr",
     "output_type": "stream",
     "text": [
      "\u001b[A\u001b[A\n",
      "\n",
      "p: 10it [00:07,  1.34it/s]"
     ]
    },
    {
     "name": "stdout",
     "output_type": "stream",
     "text": [
      "[43.173411, -77.680151]\n",
      "\n",
      "Hardstand in Cargo Building 87  JAMAICA  NY 11430\n"
     ]
    },
    {
     "name": "stderr",
     "output_type": "stream",
     "text": [
      "\u001b[A\u001b[A\n",
      "\n",
      "p: 11it [00:08,  1.20it/s]"
     ]
    },
    {
     "name": "stdout",
     "output_type": "stream",
     "text": [
      "[nan, nan]\n",
      "\n",
      "15 Grumman Rd. West BETHPAGE  NY 11714\n"
     ]
    },
    {
     "name": "stderr",
     "output_type": "stream",
     "text": [
      "\u001b[A\u001b[A\n",
      "\n",
      "p: 12it [00:09,  1.21it/s]"
     ]
    },
    {
     "name": "stdout",
     "output_type": "stream",
     "text": [
      "[40.7439207, -73.4872431]\n",
      "\n",
      "356 Meridith Ave. STATEN ISLAND  NY 10314\n"
     ]
    },
    {
     "name": "stderr",
     "output_type": "stream",
     "text": [
      "\u001b[A\u001b[A\n",
      "\n",
      "p: 13it [00:10,  1.17it/s]"
     ]
    },
    {
     "name": "stdout",
     "output_type": "stream",
     "text": [
      "[40.60119299999999, -74.1958374]\n",
      "\n",
      "216 Clickner Road CROPSEYVILLE  NY 12052\n"
     ]
    },
    {
     "name": "stderr",
     "output_type": "stream",
     "text": [
      "\u001b[A\u001b[A\n",
      "\n",
      "p: 14it [00:11,  1.22it/s]"
     ]
    },
    {
     "name": "stdout",
     "output_type": "stream",
     "text": [
      "[42.728292, -73.515097]\n",
      "\n",
      "W MO 14 1/2 Mile Past Highway AK AVA  MO 65608\n"
     ]
    },
    {
     "name": "stderr",
     "output_type": "stream",
     "text": [
      "\u001b[A\u001b[A\n",
      "\n",
      "p: 15it [00:11,  1.23it/s]"
     ]
    },
    {
     "name": "stdout",
     "output_type": "stream",
     "text": [
      "[nan, nan]\n",
      "\n",
      "333 East 93rd St  NEW YORK  NY 10128\n"
     ]
    },
    {
     "name": "stderr",
     "output_type": "stream",
     "text": [
      "\u001b[A\u001b[A\n",
      "\n",
      "p: 16it [00:12,  1.18it/s]"
     ]
    },
    {
     "name": "stdout",
     "output_type": "stream",
     "text": [
      "[40.7817896, -73.9467528]\n",
      "\n",
      "500 Stone Rd WEST HURLEY  NY 12491\n"
     ]
    },
    {
     "name": "stderr",
     "output_type": "stream",
     "text": [
      "\u001b[A\u001b[A\n",
      "\n",
      "p: 17it [00:13,  1.19it/s]"
     ]
    },
    {
     "name": "stdout",
     "output_type": "stream",
     "text": [
      "[41.936844, -74.13511299999999]\n",
      "\n",
      "5833 Big Tree Road  LAKEVILLE  NY 14480\n"
     ]
    },
    {
     "name": "stderr",
     "output_type": "stream",
     "text": [
      "\u001b[A\u001b[A\n",
      "\n",
      "p: 18it [00:14,  1.14it/s]"
     ]
    },
    {
     "name": "stdout",
     "output_type": "stream",
     "text": [
      "[42.8361108, -77.7033277]\n",
      "\n",
      "Suite 102 SIKESTON  MO 63801\n"
     ]
    },
    {
     "name": "stderr",
     "output_type": "stream",
     "text": [
      "\u001b[A\u001b[A\n",
      "\n",
      "p: 19it [00:15,  1.18it/s]"
     ]
    },
    {
     "name": "stdout",
     "output_type": "stream",
     "text": [
      "[36.8893698, -89.58595799999999]\n",
      "\n",
      "153 E. 87th St NEW YORK  NY 10128\n"
     ]
    },
    {
     "name": "stderr",
     "output_type": "stream",
     "text": [
      "\u001b[A\u001b[A\n",
      "\n",
      "p: 20it [00:16,  1.11it/s]"
     ]
    },
    {
     "name": "stdout",
     "output_type": "stream",
     "text": [
      "[40.7802086, -73.95465279999999]\n",
      "\n",
      "Marine Park Parking Lot BROOKLYN  NY 11229\n"
     ]
    },
    {
     "name": "stderr",
     "output_type": "stream",
     "text": [
      "\u001b[A\u001b[A\n",
      "\n",
      "p: 21it [00:17,  1.14it/s]"
     ]
    },
    {
     "name": "stdout",
     "output_type": "stream",
     "text": [
      "[40.6075791, -73.9339165]\n",
      "\n",
      "848 Central Parkway SCHENECTADY  NY 12309\n"
     ]
    },
    {
     "name": "stderr",
     "output_type": "stream",
     "text": [
      "\u001b[A\u001b[A\n",
      "\n",
      "p: 22it [00:18,  1.09it/s]"
     ]
    },
    {
     "name": "stdout",
     "output_type": "stream",
     "text": [
      "[42.805173, -73.911721]\n",
      "\n",
      "1500 JEFFERSON ROAD ROCHESTER  NY 14623\n"
     ]
    },
    {
     "name": "stderr",
     "output_type": "stream",
     "text": [
      "\u001b[A\u001b[A\n",
      "\n",
      "p: 23it [00:19,  1.14it/s]"
     ]
    },
    {
     "name": "stdout",
     "output_type": "stream",
     "text": [
      "[43.08817, -77.586992]\n",
      "\n",
      "200 Harbor Rd. STONY BROOK  NY 11790\n"
     ]
    },
    {
     "name": "stderr",
     "output_type": "stream",
     "text": [
      "\u001b[A\u001b[A\n",
      "\n",
      "p: 24it [00:19,  1.23it/s]"
     ]
    },
    {
     "name": "stdout",
     "output_type": "stream",
     "text": [
      "[40.910762, -73.150672]\n",
      "\n",
      "81-10 135th Street JAMAICA  NY 11435\n"
     ]
    },
    {
     "name": "stderr",
     "output_type": "stream",
     "text": [
      "\u001b[A\u001b[A\n",
      "\n",
      "p: 25it [00:20,  1.18it/s]"
     ]
    },
    {
     "name": "stdout",
     "output_type": "stream",
     "text": [
      "[40.7146169, -73.823556]\n",
      "\n",
      "Montague & Weldon WINNEBAGO IL 61088\n"
     ]
    },
    {
     "name": "stderr",
     "output_type": "stream",
     "text": [
      "\u001b[A\u001b[A\n",
      "\n",
      "p: 26it [00:21,  1.18it/s]"
     ]
    },
    {
     "name": "stdout",
     "output_type": "stream",
     "text": [
      "[42.2184229, -89.1923125]\n",
      "\n",
      "NY 12827\n"
     ]
    },
    {
     "name": "stderr",
     "output_type": "stream",
     "text": [
      "\u001b[A\u001b[A\n",
      "\n",
      "p: 27it [00:22,  1.21it/s]"
     ]
    },
    {
     "name": "stdout",
     "output_type": "stream",
     "text": [
      "[43.4609006, -73.5122928]\n",
      "\n",
      "NY 11235\n"
     ]
    },
    {
     "name": "stderr",
     "output_type": "stream",
     "text": [
      "\u001b[A\u001b[A\n",
      "\n",
      "p: 28it [00:22,  1.25it/s]"
     ]
    },
    {
     "name": "stdout",
     "output_type": "stream",
     "text": [
      "[40.5860069, -73.9418603]\n",
      "\n",
      "NY 11786\n"
     ]
    },
    {
     "name": "stderr",
     "output_type": "stream",
     "text": [
      "\u001b[A\u001b[A\n",
      "\n",
      "p: 29it [00:23,  1.27it/s]"
     ]
    },
    {
     "name": "stdout",
     "output_type": "stream",
     "text": [
      "[40.9580487, -72.88699299999999]\n",
      "\n",
      "NY 12302\n"
     ]
    },
    {
     "name": "stderr",
     "output_type": "stream",
     "text": [
      "\u001b[A\u001b[A\n",
      "\n",
      "p: 30it [00:24,  1.19it/s]"
     ]
    },
    {
     "name": "stdout",
     "output_type": "stream",
     "text": [
      "[42.8649909, -73.95949399999999]\n",
      "\n",
      "NY 12834\n"
     ]
    },
    {
     "name": "stderr",
     "output_type": "stream",
     "text": [
      "\u001b[A\u001b[A\n",
      "\n",
      "p: 31it [00:25,  1.16it/s]"
     ]
    },
    {
     "name": "stdout",
     "output_type": "stream",
     "text": [
      "[43.08426240000001, -73.5122928]\n",
      "\n",
      "NY 11566\n"
     ]
    },
    {
     "name": "stderr",
     "output_type": "stream",
     "text": [
      "\u001b[A\u001b[A\n",
      "\n",
      "p: 32it [00:26,  1.14it/s]"
     ]
    },
    {
     "name": "stdout",
     "output_type": "stream",
     "text": [
      "[40.6488134, -73.5535234]\n",
      "\n",
      "NY 12010\n"
     ]
    },
    {
     "name": "stderr",
     "output_type": "stream",
     "text": [
      "\u001b[A\u001b[A\n",
      "\n",
      "p: 33it [00:27,  1.12it/s]"
     ]
    },
    {
     "name": "stdout",
     "output_type": "stream",
     "text": [
      "[42.9297842, -74.1474846]\n",
      "\n",
      "NY 11217\n"
     ]
    },
    {
     "name": "stderr",
     "output_type": "stream",
     "text": [
      "\u001b[A\u001b[A\n",
      "\n",
      "p: 34it [00:28,  1.15it/s]"
     ]
    },
    {
     "name": "stdout",
     "output_type": "stream",
     "text": [
      "[40.6815619, -73.9785952]\n",
      "\n",
      "NY 11749\n"
     ]
    },
    {
     "name": "stderr",
     "output_type": "stream",
     "text": [
      "\u001b[A\u001b[A\n",
      "\n",
      "p: 35it [00:29,  1.16it/s]"
     ]
    },
    {
     "name": "stdout",
     "output_type": "stream",
     "text": [
      "[40.8071938, -73.1733127]\n",
      "\n",
      "30-03 Review Ave LONG ISLAND CITY  NY 11101\n"
     ]
    },
    {
     "name": "stderr",
     "output_type": "stream",
     "text": [
      "\u001b[A\u001b[A"
     ]
    },
    {
     "name": "stdout",
     "output_type": "stream",
     "text": [
      "[40.7366363, -73.9396297]\n"
     ]
    },
    {
     "name": "stderr",
     "output_type": "stream",
     "text": [
      "\n",
      "\n",
      "\u001b[A\u001b[A"
     ]
    }
   ],
   "source": [
    "def get_osha_loc(row):    \n",
    "    return get_lat_lng(row.employer.split(',')[-1].strip())\n",
    "#     \"MHP Real Estate Services, 180 Maiden Lane NEW YO\".split(',')[-1].strip()\n",
    "# osha_current[lat]\n",
    "osha_current_loc = osha_current.progress_apply (lambda row: get_osha_loc(row),axis=1).apply(pd.Series)"
   ]
  },
  {
   "cell_type": "code",
   "execution_count": 199,
   "metadata": {
    "collapsed": false
   },
   "outputs": [
    {
     "data": {
      "text/html": [
       "<div>\n",
       "<table border=\"1\" class=\"dataframe\">\n",
       "  <thead>\n",
       "    <tr style=\"text-align: right;\">\n",
       "      <th></th>\n",
       "      <th>date</th>\n",
       "      <th>description</th>\n",
       "      <th>employer</th>\n",
       "      <th>lat</th>\n",
       "      <th>lng</th>\n",
       "    </tr>\n",
       "  </thead>\n",
       "  <tbody>\n",
       "    <tr>\n",
       "      <th>3</th>\n",
       "      <td>2017-04-27</td>\n",
       "      <td>A worker died after falling from a 6 foot ladder.</td>\n",
       "      <td>MHP Real Estate Services, 180 Maiden Lane NEW YORK  NY 10038</td>\n",
       "      <td>40.70526</td>\n",
       "      <td>-74.005515</td>\n",
       "    </tr>\n",
       "  </tbody>\n",
       "</table>\n",
       "</div>"
      ],
      "text/plain": [
       "         date                                        description  \\\n",
       "3  2017-04-27  A worker died after falling from a 6 foot ladder.   \n",
       "\n",
       "                                                       employer       lat  \\\n",
       "3  MHP Real Estate Services, 180 Maiden Lane NEW YORK  NY 10038  40.70526   \n",
       "\n",
       "         lng  \n",
       "3 -74.005515  "
      ]
     },
     "execution_count": 199,
     "metadata": {},
     "output_type": "execute_result"
    }
   ],
   "source": [
    "# osha_current_loc[osha_current_loc.duplicated(keep=False)]\n",
    "osha_current['lat'] = osha_current_loc[0]\n",
    "osha_current['lng'] = osha_current_loc[1]\n",
    "osha_current[:1]"
   ]
  },
  {
   "cell_type": "code",
   "execution_count": 200,
   "metadata": {
    "collapsed": false
   },
   "outputs": [
    {
     "data": {
      "text/html": [
       "<div>\n",
       "<table border=\"1\" class=\"dataframe\">\n",
       "  <thead>\n",
       "    <tr style=\"text-align: right;\">\n",
       "      <th></th>\n",
       "      <th>date</th>\n",
       "      <th>lat</th>\n",
       "      <th>lng</th>\n",
       "    </tr>\n",
       "  </thead>\n",
       "  <tbody>\n",
       "    <tr>\n",
       "      <th>3</th>\n",
       "      <td>2017-04-27</td>\n",
       "      <td>40.70526</td>\n",
       "      <td>-74.005515</td>\n",
       "    </tr>\n",
       "  </tbody>\n",
       "</table>\n",
       "</div>"
      ],
      "text/plain": [
       "         date       lat        lng\n",
       "3  2017-04-27  40.70526 -74.005515"
      ]
     },
     "execution_count": 200,
     "metadata": {},
     "output_type": "execute_result"
    }
   ],
   "source": [
    "osha_current.drop(['description', 'employer'], axis=1, inplace=True)\n",
    "osha_current[:1]"
   ]
  },
  {
   "cell_type": "code",
   "execution_count": 201,
   "metadata": {
    "collapsed": true
   },
   "outputs": [],
   "source": [
    "osha_current['kind'] = 'w'"
   ]
  },
  {
   "cell_type": "code",
   "execution_count": 202,
   "metadata": {
    "collapsed": true
   },
   "outputs": [],
   "source": [
    "# ok now the archives, which don't follow the same format guh"
   ]
  },
  {
   "cell_type": "code",
   "execution_count": 203,
   "metadata": {
    "collapsed": false
   },
   "outputs": [
    {
     "name": "stderr",
     "output_type": "stream",
     "text": [
      "100%|██████████| 7/7 [00:03<00:00,  1.87it/s]\n"
     ]
    }
   ],
   "source": [
    "osha_archive_urls = [\n",
    "\"https://www.osha.gov/dep/fatcat/FatalitiesFY09.csv\",\n",
    "\"https://www.osha.gov/dep/fatcat/FatalitiesFY10.csv\",\n",
    "\"https://www.osha.gov/dep/fatcat/FatalitiesFY11.csv\",\n",
    "\"https://www.osha.gov/dep/fatcat/FatalitiesFY12.csv\",\n",
    "\"https://www.osha.gov/dep/fatcat/fy13_federal-state_summaries.csv\",\n",
    "\"https://www.osha.gov/dep/fatcat/fy14_federal-state_summaries.csv\",\n",
    "\"https://www.osha.gov/dep/fatcat/fy15_federal-state_summaries.csv\"]\n",
    "\n",
    "osha_archive = pd.DataFrame()\n",
    "for url in tqdm(osha_archive_urls):\n",
    "    df = pd.DataFrame.from_csv(url)\n",
    "#     print(df.info())\n",
    "    osha_archive = pd.concat([osha_archive, df])\n",
    "#     osha_current = pd.concat([osha_current, df])\n",
    "#     print(url)\n",
    "# all_osha.info()"
   ]
  },
  {
   "cell_type": "code",
   "execution_count": 204,
   "metadata": {
    "collapsed": false
   },
   "outputs": [
    {
     "data": {
      "text/html": [
       "<div>\n",
       "<table border=\"1\" class=\"dataframe\">\n",
       "  <thead>\n",
       "    <tr style=\"text-align: right;\">\n",
       "      <th></th>\n",
       "      <th>Company</th>\n",
       "      <th>Company, City, State, ZIP</th>\n",
       "      <th>Date of Incident</th>\n",
       "      <th>Fatality or Catastrophe</th>\n",
       "      <th>Inspection #</th>\n",
       "      <th>Preliminary Description of Incident</th>\n",
       "      <th>Summary Report Date</th>\n",
       "      <th>Unnamed: 4</th>\n",
       "      <th>Victim(s)</th>\n",
       "    </tr>\n",
       "  </thead>\n",
       "  <tbody>\n",
       "    <tr>\n",
       "      <th>FY 2009</th>\n",
       "      <td>L.B. Thompson Inc., Tampa, FL 33610</td>\n",
       "      <td>NaN</td>\n",
       "      <td>6/23/2009</td>\n",
       "      <td>NaN</td>\n",
       "      <td>NaN</td>\n",
       "      <td>Victim was inside a building bundling material and became ill, possible heat stroke.</td>\n",
       "      <td>7/24/2009</td>\n",
       "      <td>NaN</td>\n",
       "      <td>NaN</td>\n",
       "    </tr>\n",
       "  </tbody>\n",
       "</table>\n",
       "</div>"
      ],
      "text/plain": [
       "                                     Company Company, City, State, ZIP  \\\n",
       "FY 2009  L.B. Thompson Inc., Tampa, FL 33610                       NaN   \n",
       "\n",
       "        Date of Incident Fatality or Catastrophe Inspection #  \\\n",
       "FY 2009        6/23/2009                     NaN          NaN   \n",
       "\n",
       "                                                          Preliminary Description of Incident  \\\n",
       "FY 2009  Victim was inside a building bundling material and became ill, possible heat stroke.   \n",
       "\n",
       "        Summary Report Date Unnamed: 4 Victim(s)  \n",
       "FY 2009           7/24/2009        NaN       NaN  "
      ]
     },
     "execution_count": 204,
     "metadata": {},
     "output_type": "execute_result"
    }
   ],
   "source": [
    "osha_archive.dropna(axis=1, how=\"all\", inplace=True)\n",
    "osha_archive[:1]"
   ]
  },
  {
   "cell_type": "code",
   "execution_count": 205,
   "metadata": {
    "collapsed": false
   },
   "outputs": [
    {
     "data": {
      "text/html": [
       "<div>\n",
       "<table border=\"1\" class=\"dataframe\">\n",
       "  <thead>\n",
       "    <tr style=\"text-align: right;\">\n",
       "      <th></th>\n",
       "      <th>Company</th>\n",
       "      <th>Company, City, State, ZIP</th>\n",
       "      <th>Date of Incident</th>\n",
       "      <th>Fatality or Catastrophe</th>\n",
       "      <th>Inspection #</th>\n",
       "      <th>Preliminary Description of Incident</th>\n",
       "      <th>Summary Report Date</th>\n",
       "      <th>Unnamed: 4</th>\n",
       "      <th>Victim(s)</th>\n",
       "      <th>place</th>\n",
       "    </tr>\n",
       "  </thead>\n",
       "  <tbody>\n",
       "    <tr>\n",
       "      <th>2014-11-06 00:00:00</th>\n",
       "      <td>NaN</td>\n",
       "      <td>Oquaga Creek State Park, Sanford, NY  13754</td>\n",
       "      <td>NaN</td>\n",
       "      <td>Fatality</td>\n",
       "      <td>NaN</td>\n",
       "      <td>Worker fatally crushed in winding machine.</td>\n",
       "      <td>NaN</td>\n",
       "      <td>NaN</td>\n",
       "      <td>NaN</td>\n",
       "      <td>Oquaga Creek State Park, Sanford, NY  13754</td>\n",
       "    </tr>\n",
       "    <tr>\n",
       "      <th>2014-10-29 00:00:00</th>\n",
       "      <td>NaN</td>\n",
       "      <td>STV Group Inc., Staten Island, NY 10305</td>\n",
       "      <td>NaN</td>\n",
       "      <td>Fatality</td>\n",
       "      <td>NaN</td>\n",
       "      <td>Worker struck and killed by construction vehicle.</td>\n",
       "      <td>NaN</td>\n",
       "      <td>NaN</td>\n",
       "      <td>NaN</td>\n",
       "      <td>STV Group Inc., Staten Island, NY 10305</td>\n",
       "    </tr>\n",
       "  </tbody>\n",
       "</table>\n",
       "</div>"
      ],
      "text/plain": [
       "                    Company                    Company, City, State, ZIP  \\\n",
       "2014-11-06 00:00:00     NaN  Oquaga Creek State Park, Sanford, NY  13754   \n",
       "2014-10-29 00:00:00     NaN      STV Group Inc., Staten Island, NY 10305   \n",
       "\n",
       "                    Date of Incident Fatality or Catastrophe Inspection #  \\\n",
       "2014-11-06 00:00:00              NaN                Fatality          NaN   \n",
       "2014-10-29 00:00:00              NaN                Fatality          NaN   \n",
       "\n",
       "                                   Preliminary Description of Incident  \\\n",
       "2014-11-06 00:00:00         Worker fatally crushed in winding machine.   \n",
       "2014-10-29 00:00:00  Worker struck and killed by construction vehicle.   \n",
       "\n",
       "                    Summary Report Date Unnamed: 4 Victim(s)  \\\n",
       "2014-11-06 00:00:00                 NaN        NaN       NaN   \n",
       "2014-10-29 00:00:00                 NaN        NaN       NaN   \n",
       "\n",
       "                                                           place  \n",
       "2014-11-06 00:00:00  Oquaga Creek State Park, Sanford, NY  13754  \n",
       "2014-10-29 00:00:00      STV Group Inc., Staten Island, NY 10305  "
      ]
     },
     "execution_count": 205,
     "metadata": {},
     "output_type": "execute_result"
    }
   ],
   "source": [
    "# 'wef NY '.count('NY') and True\n",
    "osha_archive['place'] = osha_archive['Company'].fillna(osha_archive['Company, City, State, ZIP'])\n",
    "# need to drop\n",
    "osha_archive = osha_archive.dropna(axis=0, subset=['place'])\n",
    "osha_archive = osha_archive[osha_archive.place.str.contains('NY')]\n",
    "osha_archive[-2:]\n"
   ]
  },
  {
   "cell_type": "code",
   "execution_count": null,
   "metadata": {
    "collapsed": true
   },
   "outputs": [],
   "source": [
    "\n",
    "def get_osha_archive_loc(row):\n",
    "    # TODO  - - this is COPYPASTA FROM ABOVE\n",
    "#     place = row['Company, City, State, ZIP'] if row['Company, City, State, ZIP'] is not pd.np.NaN else row['Company']\n",
    "#     if row.place is not pd.np.NaN: # and place.count('NY'):\n",
    "    return get_lat_lng(row['place'])    \n",
    "#     else:\n",
    "#         return [pd.np.NaN, pd.np.NaN]\n",
    "#     elif row.cross_street_name is not pd.np.NaN:\n",
    "#         return get_lat_lng(row.cross_street_name+' '+borough+ ' New York')    \n",
    "\n",
    "osha_archive_loc = osha_archive.apply (lambda row: get_osha_archive_loc(row),axis=1).apply(pd.Series)\n"
   ]
  },
  {
   "cell_type": "code",
   "execution_count": 207,
   "metadata": {
    "collapsed": false
   },
   "outputs": [],
   "source": [
    "# osha_archive_loc.apply(pd.Series)\n",
    "osha_archive['lat']=osha_archive_loc[0]\n",
    "osha_archive['lng']=osha_archive_loc[1]"
   ]
  },
  {
   "cell_type": "code",
   "execution_count": 208,
   "metadata": {
    "collapsed": false
   },
   "outputs": [],
   "source": [
    "# osha_archive.columns\n",
    "osha_archive.drop(['Company', 'Company, City, State, ZIP',\n",
    "       'Fatality or Catastrophe', 'Inspection #',\n",
    "       'Preliminary Description of Incident', 'Summary Report Date',\n",
    "       'Unnamed: 4', 'Victim(s)', 'place'], axis=1, inplace=True)"
   ]
  },
  {
   "cell_type": "code",
   "execution_count": 212,
   "metadata": {
    "collapsed": false
   },
   "outputs": [],
   "source": [
    "osha_archive[:1]\n",
    "osha_archive = osha_archive.reset_index().drop(['index'], axis=1)\n",
    "osha_archive.columns = ['date', 'lat', 'lng']"
   ]
  },
  {
   "cell_type": "code",
   "execution_count": null,
   "metadata": {
    "collapsed": true
   },
   "outputs": [],
   "source": [
    "# things got messy here, multiple reindexes maybe?\n",
    "osha_archive['kind'] = 'w'\n",
    "# osha_archive.reset_index()\n",
    "osha_archive.dropna(how='any')"
   ]
  },
  {
   "cell_type": "markdown",
   "metadata": {},
   "source": [
    "### Combine them"
   ]
  },
  {
   "cell_type": "code",
   "execution_count": 222,
   "metadata": {
    "collapsed": false
   },
   "outputs": [
    {
     "name": "stdout",
     "output_type": "stream",
     "text": [
      "        date       lat        lng kind\n",
      "0  7/22/2009  40.66347 -73.563342    w\n",
      "         date       lat        lng kind\n",
      "3  2017-04-27  40.70526 -74.005515    w\n",
      "                  date         lat          lng kind\n",
      "0  2017-07-08T00:00:00  40.6615680  -73.9507300    v\n",
      "            lat            lng                 date kind\n",
      "0  40.697338138  -73.784556739  2015-12-31T00:00:00    c\n",
      "           lat        lng           date kind\n",
      "239  40.807925 -73.922599  March 16 2016    b\n"
     ]
    }
   ],
   "source": [
    "print(osha_archive[:1])\n",
    "print(osha_current[:1])\n",
    "print(vehicle_deaths[:1])\n",
    "print(crime_deaths[:1])\n",
    "print(ny_by_police[:1])"
   ]
  },
  {
   "cell_type": "code",
   "execution_count": 223,
   "metadata": {
    "collapsed": false
   },
   "outputs": [],
   "source": [
    "# combine them!\n",
    "deaths = pd.concat([vehicle_deaths, crime_deaths, ny_by_police, osha_current, osha_archive], ignore_index=True)"
   ]
  },
  {
   "cell_type": "code",
   "execution_count": 226,
   "metadata": {
    "collapsed": false
   },
   "outputs": [
    {
     "name": "stdout",
     "output_type": "stream",
     "text": [
      "<class 'pandas.core.frame.DataFrame'>\n",
      "RangeIndex: 6490 entries, 0 to 6489\n",
      "Data columns (total 4 columns):\n",
      "date    6322 non-null object\n",
      "kind    6490 non-null object\n",
      "lat     6373 non-null object\n",
      "lng     6373 non-null object\n",
      "dtypes: object(4)\n",
      "memory usage: 202.9+ KB\n"
     ]
    }
   ],
   "source": [
    "deaths.info() #.isnull().sum()"
   ]
  },
  {
   "cell_type": "code",
   "execution_count": 227,
   "metadata": {
    "collapsed": false
   },
   "outputs": [
    {
     "name": "stdout",
     "output_type": "stream",
     "text": [
      "<class 'pandas.core.frame.DataFrame'>\n",
      "Int64Index: 6373 entries, 0 to 6488\n",
      "Data columns (total 4 columns):\n",
      "date    6241 non-null object\n",
      "kind    6373 non-null object\n",
      "lat     6373 non-null object\n",
      "lng     6373 non-null object\n",
      "dtypes: object(4)\n",
      "memory usage: 248.9+ KB\n"
     ]
    }
   ],
   "source": [
    "deaths = deaths.dropna(axis=0, subset=['lat'])\n",
    "deaths.info()\n",
    "# deaths.isnull().sum()"
   ]
  },
  {
   "cell_type": "code",
   "execution_count": 228,
   "metadata": {
    "collapsed": false
   },
   "outputs": [],
   "source": [
    "deaths.columns = ['d', 'k', 'lat', 'lng' ]\n",
    "deaths.to_json(\"deaths.json\", orient=\"records\")"
   ]
  },
  {
   "cell_type": "code",
   "execution_count": null,
   "metadata": {
    "collapsed": false
   },
   "outputs": [],
   "source": [
    "# deaths.info()"
   ]
  },
  {
   "cell_type": "code",
   "execution_count": null,
   "metadata": {
    "collapsed": true
   },
   "outputs": [],
   "source": [
    "deaths.lat.value_counts()"
   ]
  },
  {
   "cell_type": "code",
   "execution_count": null,
   "metadata": {
    "collapsed": true
   },
   "outputs": [],
   "source": []
  }
 ],
 "metadata": {
  "kernelspec": {
   "display_name": "Python 3",
   "language": "python",
   "name": "python3"
  },
  "language_info": {
   "codemirror_mode": {
    "name": "ipython",
    "version": 3
   },
   "file_extension": ".py",
   "mimetype": "text/x-python",
   "name": "python",
   "nbconvert_exporter": "python",
   "pygments_lexer": "ipython3",
   "version": "3.5.2"
  }
 },
 "nbformat": 4,
 "nbformat_minor": 2
}
