{
 "cells": [
  {
   "cell_type": "code",
   "execution_count": null,
   "metadata": {
    "collapsed": true
   },
   "outputs": [],
   "source": [
    "import requests\n",
    "import pandas as pd\n",
    "import numpy as np\n",
    "!pip install geocoder\n",
    "import geocoder"
   ]
  },
  {
   "cell_type": "code",
   "execution_count": 46,
   "metadata": {
    "collapsed": true
   },
   "outputs": [],
   "source": [
    "geo_cache = {}"
   ]
  },
  {
   "cell_type": "code",
   "execution_count": 60,
   "metadata": {
    "collapsed": false
   },
   "outputs": [],
   "source": [
    "\n",
    "def get_lat_lng(x):\n",
    "    print('\\n'+x)\n",
    "    if x in geo_cache:\n",
    "        res = geo_cache[x]\n",
    "    g = geocoder.google(x)\n",
    "    if g.latlng:\n",
    "        geo_cache[x] = g.latlng\n",
    "        res = g.latlng\n",
    "    else:\n",
    "        res = [pd.np.nan, pd.np.nan]\n",
    "    print(res)\n",
    "    return res\n",
    "\n",
    "# print('bk', get_lat_lng('Brooklyn, NY'))\n",
    "# print(get_lat_lng('Brownstone Bagel, Brooklyn, NY'))\n",
    "# print(get_lat_lng('5th Avenue and Union Ave, Brooklyn, NY'))\n",
    "# print(get_lat_lng('5t2323f Union afewfAve, Bro43oklyn, NY'))\n",
    "# OSHA examples\n",
    "# print(get_lat_lng('Tower Building Services Inc., New York, NY 10021'))\n",
    "# print(get_lat_lng(\"FJC Security Services, New York, NY 10014\"))\n",
    "\n",
    "\n"
   ]
  },
  {
   "cell_type": "markdown",
   "metadata": {},
   "source": [
    "### Crime Deaths"
   ]
  },
  {
   "cell_type": "code",
   "execution_count": 48,
   "metadata": {
    "collapsed": true
   },
   "outputs": [],
   "source": [
    "# TODO need to do paging, this just squeaks under the 50k limit XXX \n",
    "crime_deaths_url = \"https://data.cityofnewyork.us/resource/n98d-maqp.json?ofns_desc=MURDER%20%26%20NON-NEGL.%20MANSLAUGHTER&$limit=50000\"\n",
    "r = requests.get(crime_deaths_url)\n",
    "crime_deaths_json = r.json()"
   ]
  },
  {
   "cell_type": "code",
   "execution_count": 49,
   "metadata": {
    "collapsed": false,
    "scrolled": true
   },
   "outputs": [
    {
     "name": "stdout",
     "output_type": "stream",
     "text": [
      "4909\n"
     ]
    }
   ],
   "source": [
    "print(len(crime_deaths_json))\n",
    "# print(crime_deaths_json[0])\n",
    "crime_deaths = pd.DataFrame.from_records(crime_deaths_json)\n",
    "# crime_deaths"
   ]
  },
  {
   "cell_type": "code",
   "execution_count": 50,
   "metadata": {
    "collapsed": false
   },
   "outputs": [],
   "source": [
    "crime_deaths.drop(['ofns_desc'], axis = 1, inplace = True)"
   ]
  },
  {
   "cell_type": "code",
   "execution_count": 51,
   "metadata": {
    "collapsed": false
   },
   "outputs": [],
   "source": [
    "crime_deaths[\"kind\"] = \"c\"\n",
    "crime_deaths\n",
    "crime_deaths.columns = ['lat', 'lng', 'date', 'kind']"
   ]
  },
  {
   "cell_type": "code",
   "execution_count": 52,
   "metadata": {
    "collapsed": false
   },
   "outputs": [
    {
     "name": "stdout",
     "output_type": "stream",
     "text": [
      "lat     2\n",
      "lng     2\n",
      "date    0\n",
      "kind    0\n",
      "dtype: int64\n"
     ]
    }
   ],
   "source": [
    "print(crime_deaths.isnull().sum())\n",
    "# crime_deaths\n",
    "# returns 2 crime deaths we don't have lat lng for, but they lack any location info, nothing to geocode"
   ]
  },
  {
   "cell_type": "markdown",
   "metadata": {},
   "source": [
    "### Motor vehicle related deaths"
   ]
  },
  {
   "cell_type": "code",
   "execution_count": 53,
   "metadata": {
    "collapsed": false
   },
   "outputs": [],
   "source": [
    "# https://data.cityofnewyork.us/resource/9tve-dvm5.json\n",
    "vehicle_deaths_url = \"https://data.cityofnewyork.us/resource/arr5-wtax.json?&$limit=50000\"\n",
    "r = requests.get(vehicle_deaths_url)\n",
    "vehicle_deaths_json = r.json()\n",
    "vehicle_deaths = pd.DataFrame.from_records(vehicle_deaths_json)"
   ]
  },
  {
   "cell_type": "code",
   "execution_count": 54,
   "metadata": {
    "collapsed": false
   },
   "outputs": [],
   "source": [
    "# how many have missing data\n",
    "# vehicle_deaths.isnull().sum()\n",
    "# show those missing lat\n",
    "# vehicle_deaths[vehicle_deaths.isnull()['latitude']]"
   ]
  },
  {
   "cell_type": "code",
   "execution_count": null,
   "metadata": {
    "collapsed": true
   },
   "outputs": [],
   "source": []
  },
  {
   "cell_type": "code",
   "execution_count": 78,
   "metadata": {
    "collapsed": false
   },
   "outputs": [],
   "source": [
    "# specific to motor vehicle data / rows\n",
    "def maybe_get_location(row):\n",
    "    borough = row.borough if row.borough is not pd.np.NaN else ''\n",
    "    if row.latitude is not pd.np.NaN :\n",
    "        return [row.latitude, row.longitude]\n",
    "    elif row.cross_street_name is not pd.np.NaN:\n",
    "        return get_lat_lng(row.cross_street_name+' '+borough+ ' New York')\n",
    "    elif row.off_street_name is not pd.np.NaN:\n",
    "        return get_lat_lng(row.off_street_name+' '+borough+ ' New York')\n",
    "    elif row.on_street_name is not pd.np.NaN:\n",
    "        return get_lat_lng(row.on_street_name+' '+borough+ ' New York')\n",
    "    else:\n",
    "        # print('no dice for ', row)\n",
    "        return [pd.np.nan, pd.np.nan]\n",
    "\n",
    "    \n",
    "# https://stackoverflow.com/a/26887820/83859\n",
    "# df.apply (lambda row: label_race (row),axis=1) # just to see result\n"
   ]
  },
  {
   "cell_type": "code",
   "execution_count": null,
   "metadata": {
    "collapsed": true
   },
   "outputs": [],
   "source": [
    "# pass it the row\n",
    "mvd_locs = vehicle_deaths.apply (lambda row: maybe_get_location (row),axis=1)"
   ]
  },
  {
   "cell_type": "code",
   "execution_count": 75,
   "metadata": {
    "collapsed": true
   },
   "outputs": [],
   "source": [
    "# turn the series of lists [lat,lng] into it's own frame, i.e. two series\n",
    "mvd_loc_df = mvd_locs.apply(pd.Series)"
   ]
  },
  {
   "cell_type": "code",
   "execution_count": null,
   "metadata": {
    "collapsed": true
   },
   "outputs": [],
   "source": [
    "# vehicle_deaths[vehicle_deaths.isnull()['latitude']]\n",
    "mvd_loc_df.isnull().sum()"
   ]
  },
  {
   "cell_type": "code",
   "execution_count": 80,
   "metadata": {
    "collapsed": true
   },
   "outputs": [],
   "source": [
    "# add locations from our other table\n",
    "vehicle_deaths['latitude'] = mvd_loc_df[0]\n",
    "vehicle_deaths['longitude'] = mvd_loc_df[1]"
   ]
  },
  {
   "cell_type": "code",
   "execution_count": 87,
   "metadata": {
    "collapsed": false
   },
   "outputs": [
    {
     "name": "stdout",
     "output_type": "stream",
     "text": [
      "date     0\n",
      "lat     72\n",
      "lng     72\n",
      "kind     0\n",
      "dtype: int64\n"
     ]
    }
   ],
   "source": [
    "# vehicle_deaths.columns\n",
    "print(vehicle_deaths.isnull().sum())\n",
    "# vehicle_deaths[vehicle_deaths.isnull()['latitude']]"
   ]
  },
  {
   "cell_type": "code",
   "execution_count": 84,
   "metadata": {
    "collapsed": false
   },
   "outputs": [],
   "source": [
    "vehicle_deaths.drop(['borough',  'cross_street_name', 'location', 'off_street_name', 'on_street_name', 'zip_code'], axis = 1, inplace = True)\n",
    "vehicle_deaths.columns = ['date', 'lat','lng' ] # 'num'\n",
    "vehicle_deaths['kind']= 'v'\n"
   ]
  },
  {
   "cell_type": "markdown",
   "metadata": {},
   "source": [
    "### Deaths by Police\n"
   ]
  },
  {
   "cell_type": "code",
   "execution_count": 96,
   "metadata": {
    "collapsed": false
   },
   "outputs": [],
   "source": [
    "by_police = pd.concat([pd.read_csv('https://raw.githubusercontent.com/flother/thecounted/master/data/the-counted-2016.csv'),  pd.read_csv('https://raw.githubusercontent.com/flother/thecounted/master/data/the-counted-2015.csv')] )\n"
   ]
  },
  {
   "cell_type": "code",
   "execution_count": 123,
   "metadata": {
    "collapsed": false
   },
   "outputs": [
    {
     "data": {
      "text/html": [
       "<div>\n",
       "<table border=\"1\" class=\"dataframe\">\n",
       "  <thead>\n",
       "    <tr style=\"text-align: right;\">\n",
       "      <th></th>\n",
       "      <th>uid</th>\n",
       "      <th>name</th>\n",
       "      <th>age</th>\n",
       "      <th>gender</th>\n",
       "      <th>raceethnicity</th>\n",
       "      <th>month</th>\n",
       "      <th>day</th>\n",
       "      <th>year</th>\n",
       "      <th>streetaddress</th>\n",
       "      <th>city</th>\n",
       "      <th>state</th>\n",
       "      <th>classification</th>\n",
       "      <th>lawenforcementagency</th>\n",
       "      <th>armed</th>\n",
       "    </tr>\n",
       "  </thead>\n",
       "  <tbody>\n",
       "    <tr>\n",
       "      <th>239</th>\n",
       "      <td>2016461</td>\n",
       "      <td>Richard Gonzalez</td>\n",
       "      <td>55</td>\n",
       "      <td>Male</td>\n",
       "      <td>Hispanic/Latino</td>\n",
       "      <td>March</td>\n",
       "      <td>16</td>\n",
       "      <td>2016</td>\n",
       "      <td>416 E 137th St</td>\n",
       "      <td>New York</td>\n",
       "      <td>NY</td>\n",
       "      <td>Death in custody</td>\n",
       "      <td>New York Police Department</td>\n",
       "      <td>No</td>\n",
       "    </tr>\n",
       "  </tbody>\n",
       "</table>\n",
       "</div>"
      ],
      "text/plain": [
       "         uid              name age gender    raceethnicity  month  day  year  \\\n",
       "239  2016461  Richard Gonzalez  55   Male  Hispanic/Latino  March   16  2016   \n",
       "\n",
       "      streetaddress      city state    classification  \\\n",
       "239  416 E 137th St  New York    NY  Death in custody   \n",
       "\n",
       "           lawenforcementagency armed  \n",
       "239  New York Police Department    No  "
      ]
     },
     "execution_count": 123,
     "metadata": {},
     "output_type": "execute_result"
    }
   ],
   "source": [
    "ny_by_police = by_police[by_police['state']=='NY']\n",
    "depts = ['New York Police Department', 'New York City Police Department', 'New York State Police', 'New York court officer']\n",
    "ny_by_police = ny_by_police[ny_by_police['lawenforcementagency'].isin(depts)]\n",
    "not_nyc = ['Berne', 'Catskill', 'Mount Vernon']\n",
    "ny_by_police = ny_by_police[~ny_by_police['city'].isin(not_nyc)]\n",
    "ny_by_police[:1]\n"
   ]
  },
  {
   "cell_type": "markdown",
   "metadata": {},
   "source": [
    "### Combine them"
   ]
  },
  {
   "cell_type": "code",
   "execution_count": 88,
   "metadata": {
    "collapsed": false
   },
   "outputs": [],
   "source": [
    "# combine them!\n",
    "deaths = pd.concat([vehicle_deaths, crime_deaths], ignore_index=True)"
   ]
  },
  {
   "cell_type": "code",
   "execution_count": 89,
   "metadata": {
    "collapsed": false
   },
   "outputs": [
    {
     "data": {
      "text/plain": [
       "date     0\n",
       "kind     0\n",
       "lat     74\n",
       "lng     74\n",
       "dtype: int64"
      ]
     },
     "execution_count": 89,
     "metadata": {},
     "output_type": "execute_result"
    }
   ],
   "source": [
    "deaths.isnull().sum()"
   ]
  },
  {
   "cell_type": "code",
   "execution_count": 91,
   "metadata": {
    "collapsed": false
   },
   "outputs": [
    {
     "name": "stdout",
     "output_type": "stream",
     "text": [
      "<class 'pandas.core.frame.DataFrame'>\n",
      "Int64Index: 6067 entries, 0 to 6140\n",
      "Data columns (total 4 columns):\n",
      "date    6067 non-null object\n",
      "kind    6067 non-null object\n",
      "lat     6067 non-null object\n",
      "lng     6067 non-null object\n",
      "dtypes: object(4)\n",
      "memory usage: 237.0+ KB\n"
     ]
    }
   ],
   "source": [
    "deaths = deaths.dropna()\n",
    "deaths.info()\n",
    "# deaths.isnull().sum()"
   ]
  },
  {
   "cell_type": "code",
   "execution_count": 71,
   "metadata": {
    "collapsed": false
   },
   "outputs": [],
   "source": [
    "deaths.columns = ['d', 'k', 'lat', 'lng' ]\n",
    "deaths.to_json(\"deaths.json\", orient=\"records\")"
   ]
  },
  {
   "cell_type": "code",
   "execution_count": null,
   "metadata": {
    "collapsed": false
   },
   "outputs": [],
   "source": [
    "deaths.info"
   ]
  },
  {
   "cell_type": "code",
   "execution_count": null,
   "metadata": {
    "collapsed": false
   },
   "outputs": [],
   "source": [
    "deaths.lat.value_counts()"
   ]
  },
  {
   "cell_type": "code",
   "execution_count": null,
   "metadata": {
    "collapsed": true
   },
   "outputs": [],
   "source": []
  }
 ],
 "metadata": {
  "kernelspec": {
   "display_name": "Python 3",
   "language": "python",
   "name": "python3"
  },
  "language_info": {
   "codemirror_mode": {
    "name": "ipython",
    "version": 3
   },
   "file_extension": ".py",
   "mimetype": "text/x-python",
   "name": "python",
   "nbconvert_exporter": "python",
   "pygments_lexer": "ipython3",
   "version": "3.5.2"
  }
 },
 "nbformat": 4,
 "nbformat_minor": 2
}
